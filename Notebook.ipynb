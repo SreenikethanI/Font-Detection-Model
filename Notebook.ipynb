{
 "cells": [
  {
   "cell_type": "markdown",
   "metadata": {},
   "source": [
    "<h1 style=\"text-align: center; font-weight: bold; color: white; text-decoration: underline; font-variant: small-caps;\">Machine Learning based Typeface Recognition Tool</h1>\n",
    "Last edited: 09/Dec/2024\n",
    "\n",
    "---\n",
    "\n",
    "# **0. Introduction**\n",
    "Team members:\n",
    "1. 2022A7PS0004U – Yusra Hakim\n",
    "2. 2022A7PS0019U – Joseph Cijo\n",
    "3. 2022A7PS0034U – Sreenikethan Iyer\n",
    "4. 2022A7PS0036U – Mohammed Emaan\n",
    "\n",
    "This is the Jupyter Notebook for the Foundations of Data Science (CS F320)\n",
    "project. The basic premise of this project is to create a font recognition model\n",
    "trained using the [dataset](#dataset-used) mentioned below.\n",
    "\n",
    "## Dataset used\n",
    "R. Lyman. \"Character Font Images,\" UCI Machine Learning Repository, 2016. [Online]. Available: https://doi.org/10.24432/C5X61Q.\n",
    "\n",
    "<!-- ## Libraries used -- TODO:\n",
    "| Library                                                | Purpose          |\n",
    "| ---                                                    | ---              |\n",
    "| [NumPy](https://numpy.org/)                            |                  |\n",
    "| [SciPy](https://scipy.org/)                            |                  |\n",
    "| [pandas](https://pandas.pydata.org/)                   | Data Handling    |\n",
    "| [PIL/Pillow](https://pillow.readthedocs.io/en/stable/) | Image Handling   |\n",
    "| [scikit-learn](https://scikit-learn.org/stable/)       | Machine Learning |\n",
    "| [TensorFlow](https://www.tensorflow.org/)              | Neural Networks  |\n",
    "| [colorama](https://pypi.org/project/colorama/)(?)      |                  | -->\n",
    "\n",
    "## How to set up environment:\n",
    "Please see the [README.md](README.md) file."
   ]
  },
  {
   "cell_type": "markdown",
   "metadata": {},
   "source": [
    "\n",
    "---\n",
    "\n",
    "# **1. Rough outline**\n",
    "For training the model, the rough sequence of actions is as follows:\n",
    "1. Load character image data into memory.\n",
    "2. Create variations by shearing, scaling, stretching, adding noise, etc.\n",
    "3. Train a CNN model on these inputs.\n",
    "\n",
    "The model will accept two inputs, namely the character code and the image of the\n",
    "character. It will output the font name.\n",
    "\n",
    "In the actual end product, the character code detection can be trivially done\n",
    "by asking the user itself for typing out the character in the image, or can be\n",
    "automated with an OCR implementation."
   ]
  },
  {
   "cell_type": "code",
   "execution_count": null,
   "metadata": {},
   "outputs": [],
   "source": [
    "%pip install pillow"
   ]
  },
  {
   "cell_type": "code",
   "execution_count": 1,
   "metadata": {},
   "outputs": [],
   "source": [
    "from PIL import Image\n",
    "from glob import glob\n",
    "from os.path import basename, isfile\n",
    "from collections import defaultdict\n",
    "import pickle\n",
    "import ipywidgets"
   ]
  },
  {
   "cell_type": "markdown",
   "metadata": {},
   "source": [
    "\n",
    "---\n",
    "\n",
    "# **2. Data loading and preprocessing**\n"
   ]
  },
  {
   "cell_type": "code",
   "execution_count": null,
   "metadata": {},
   "outputs": [],
   "source": [
    "# Use -I flag to ignore installed, if you want to forcefully reinstall.\n",
    "%pip install numpy torch torchvision --index-url https://download.pytorch.org/whl/cu124"
   ]
  },
  {
   "cell_type": "code",
   "execution_count": 2,
   "metadata": {},
   "outputs": [],
   "source": [
    "import torch\n",
    "import torch.nn as nn\n",
    "import torch.nn.functional as F\n",
    "import torch.optim as optim\n",
    "from torch.utils.data import DataLoader, Dataset\n",
    "import torchvision.transforms.v2 as transforms\n",
    "import numpy as np\n",
    "from time import perf_counter\n"
   ]
  },
  {
   "cell_type": "markdown",
   "metadata": {},
   "source": [
    "## OLD model"
   ]
  },
  {
   "cell_type": "markdown",
   "metadata": {},
   "source": [
    "Some global constants, such as directory paths, shall be stored here for the\n",
    "ease of changing them later on.\n",
    "\n",
    "Here, data preprocessing involves parsing the CSV files and generating image\n",
    "data from the given array of pixels, scaling them, etc.\n",
    "\n",
    "We have authored a separate script called [`parse_csv.py`](DatasetUCI/parse_csv.py)\n",
    "which contains methods to load a CSV file and read all characters into Python\n",
    "objects. All the loaded data is then saved to the disk as one large file in\n",
    "Python's own `pickle` format, which makes loading the dataset much more\n",
    "efficient in the future."
   ]
  },
  {
   "cell_type": "code",
   "execution_count": null,
   "metadata": {},
   "outputs": [],
   "source": [
    "from DatasetUCI.parse_csv import *\n",
    "\n",
    "# The folder where all the CSVs are stored.\n",
    "PATH_CSVS         = \"DatasetUCI/character+font+images/\"\n",
    "PATH_CHARS_PICKLE = \"DatasetUCI/character+font+images.pickle\"\n",
    "PATH_MODELS       = \"Models/\"\n"
   ]
  },
  {
   "cell_type": "code",
   "execution_count": null,
   "metadata": {},
   "outputs": [],
   "source": [
    "# OLD DATASET\n",
    "count_chars: int\n",
    "count_fonts: int\n",
    "characters: dict[int, list[Character]]\n",
    "pickle_loaded = False # Flag to inform whether pickle loading was successful\n",
    "\n",
    "# Check if pickle file is already there.\n",
    "if isfile(PATH_CHARS_PICKLE):\n",
    "    try:\n",
    "        with open(PATH_CHARS_PICKLE, \"rb\") as f:\n",
    "            count_chars, count_fonts, characters = pickle.load(f)\n",
    "        pickle_loaded = True\n",
    "        print(\"Successfully loaded pickled data.\")\n",
    "    except Exception as e:\n",
    "        print(\"Loading pickled data failed, reason:\", e)\n",
    "\n",
    "if not pickle_loaded:\n",
    "    count_chars = 0\n",
    "    count_fonts = 0\n",
    "    characters = defaultdict(list)\n",
    "    csv_files = glob(f\"{PATH_CSVS}*.csv\")\n",
    "    print(f\"Parsing {len(csv_files)} CSV files:\")\n",
    "    for i, filename in enumerate(csv_files):\n",
    "        print(f\"  Loading [{i+1}/{len(csv_files)}] {basename(filename)}... \",end=\"\")\n",
    "        chars = parse_csv(filename)\n",
    "        count_fonts += 1\n",
    "        for char in chars:\n",
    "            characters[char['m_label']].append(char)\n",
    "            count_chars += 1\n",
    "        del chars\n",
    "        print(\"done.\")\n",
    "\n",
    "    if input(\"Save pickled file? [Y/n] \").strip().lower()[:1] != \"n\":\n",
    "        try:\n",
    "            with open(PATH_CHARS_PICKLE, \"wb\") as f:\n",
    "                pickle.dump((count_chars, count_fonts, characters), f)\n",
    "            print(\"Successfully saved pickled data.\")\n",
    "        except Exception as e:\n",
    "            print(\"Saving pickled data failed, reason:\", e)\n",
    "\n",
    "print(\"\\nStatistics:\")\n",
    "print(\"  unique character codes:\", len(characters))\n",
    "print(\"  total character count :\", count_chars)\n",
    "print(\"  total font count      :\", count_fonts)\n"
   ]
  },
  {
   "cell_type": "markdown",
   "metadata": {},
   "source": [
    "### Dataset reduction\n",
    "\n",
    "There are **832670** unique characters in this dataset, which includes\n",
    "characters from all scripts such as Devanagiri, Arabic, Chinese, etc.\n",
    "\n",
    "To start at a lower scale and to significantly reduce training time, let's\n",
    "assume this tool is aimed at an English-speaking audience, hence we shall train\n",
    "it only on a very specific subset of the characters. There can be two choices:\n",
    "1. QWERTY-keyboard: 94 characters, **406044** unique character images, 51.24% reduction.\n",
    "2. Alpha numeric (A-Z, a-z, 0-9): 62 characters, **331390** unique character images, 60.20% reduction.\n",
    "\n",
    "Choose one by changing the `TO_USE` variable below.\n",
    "\n",
    "Note that this will delete the other characters from the dataset. To restore all\n",
    "the characters, just run the above code block to reload from the file again."
   ]
  },
  {
   "cell_type": "code",
   "execution_count": null,
   "metadata": {},
   "outputs": [],
   "source": [
    "QWERTY = \"`1234567890-=qwertyuiop[]\\\\asdfghjkl;'zxcvbnm,./~!@#$%^&*()_+QWERTYUIOP{}|ASDFGHJKL:\\\"ZXCVBNM<>?\"\n",
    "ALNUM = \"QWERTYUIOPASDFGHJKLZXCVBNMqwertyuiopasdfghjklzxcvbnm0123456789\"\n",
    "\n",
    "TO_USE = ALNUM\n",
    "\n",
    "for key_to_remove in set(characters) - set(map(ord, TO_USE)):\n",
    "    del characters[key_to_remove]\n",
    "\n",
    "print(\"Total characters:\", sum(map(len, characters.values())))\n"
   ]
  },
  {
   "cell_type": "code",
   "execution_count": null,
   "metadata": {},
   "outputs": [],
   "source": [
    "class FontDataset(Dataset):\n",
    "    # The below three consist of every single character, where each index in\n",
    "    # each of the following fields correspond to one character entry.\n",
    "    data: list # List of images (where each image is a numpy array)\n",
    "    codes: list[int] # List of character codes (where each code is an int)\n",
    "    labels: list[int] # List of labels (where each label is an int)\n",
    "\n",
    "    # The transform sequence to be applied to an image:\n",
    "    transform_image: transforms.Transform | None\n",
    "\n",
    "    # The mapping used to represent a font name as a unique integer, \"Font ID number\" if you will.\n",
    "    label_mapping: dict[str, int] # Font Name -> Font ID\n",
    "    label_reverse_mapping: list[str] # Font ID -> Font name (basically just index the list normally)\n",
    "\n",
    "    def __init__(self, characters: dict[int, list[Character]], transform_image: transforms.Transform | None=None):\n",
    "        self.data = []\n",
    "        labels_strs: list[str] = []\n",
    "        self.codes = []\n",
    "        self.transform_image = transform_image\n",
    "\n",
    "        # Flatten the dictionary into a list of samples\n",
    "        for codepoint, chars in characters.items(): #sorted(characters.items(), key=lambda entry: (-len(entry[1]), entry[0])):\n",
    "            for char_obj in chars:\n",
    "                # 1. Image of the current character\n",
    "                image = np.frombuffer(bytes([255-x for x in char_obj[\"data\"]]), dtype=np.uint8).reshape((char_obj[\"h\"], char_obj[\"w\"])) # i.e. 20×20\n",
    "\n",
    "                # 2. Character code (Unicode codepoint) of the character\n",
    "                char_code = codepoint # same as char_obj[\"m_label\"]\n",
    "\n",
    "                # 3. Font name of the character (i.e. \"output\")\n",
    "                label = char_obj[\"font\"] # Use font name as the label\n",
    "\n",
    "                self.data.append(image)\n",
    "                self.codes.append(char_code)\n",
    "                labels_strs.append(label)\n",
    "\n",
    "        # Basically denote every font name with a number, useful for classification\n",
    "        self.label_reverse_mapping = list(set(labels_strs)) # TODO: SORT THIS IG?\n",
    "        self.label_mapping = {label: i for i, label in enumerate(self.label_reverse_mapping)}\n",
    "        self.labels = [self.label_mapping[label] for label in labels_strs]\n",
    "\n",
    "    def __len__(self):\n",
    "        return len(self.data)\n",
    "\n",
    "    def __getitem__(self, i: int):\n",
    "        image = self.data[i]\n",
    "        char_code = self.codes[i]\n",
    "        label = self.labels[i]\n",
    "\n",
    "        # Apply transformations every time a character is fetched.\n",
    "        if self.transform_image:\n",
    "            image = self.transform_image(image)\n",
    "\n",
    "        # Convert image to PyTorch tensor\n",
    "        # image = torch.tensor(image, dtype=torch.float32).unsqueeze(0) / 255.0 # Add channel dim and normalize to [0, 1]\n",
    "        # image = torch.tensor(image, dtype=torch.float32) / 255.0 # Normalize to [0, 1]\n",
    "        image = image.detach().clone().to(torch.float32) / 255.0 # Normalize to [0, 1]\n",
    "\n",
    "        return (image, char_code, label)\n"
   ]
  },
  {
   "cell_type": "markdown",
   "metadata": {},
   "source": [
    "\n",
    "## NEW model"
   ]
  },
  {
   "cell_type": "markdown",
   "metadata": {},
   "source": [
    "We subclass `Dataset` to create a class that denotes our Font dataset in a way\n",
    "that PyTorch can understand.\n",
    "\n",
    "See: [Datasets & DataLoaders — PyTorch Tutorials 2.5.0+cu124 documentation](https://pytorch.org/tutorials/beginner/basics/data_tutorial.html#creating-a-custom-dataset-for-your-files)\n"
   ]
  },
  {
   "cell_type": "code",
   "execution_count": 3,
   "metadata": {},
   "outputs": [],
   "source": [
    "import DatasetCustom.CreateDataset\n",
    "import importlib\n",
    "importlib.reload(DatasetCustom.CreateDataset)\n",
    "from DatasetCustom.CreateDataset import FontDatasetCustom, load_fontnames\n",
    "\n",
    "FONTNAMES_PATH_ALL = \"DatasetCustom/fontnames all.txt\"\n",
    "FONTNAMES_PATH_COMMON = \"DatasetCustom/fontnames common.txt\"\n",
    "FONTNAMES_PATH_NONSCRIPT = \"DatasetCustom/fontnames nonscript.txt\"\n",
    "FONTNAMES_PATH_SCRIPT = \"DatasetCustom/fontnames script.txt\"\n",
    "\n",
    "FONTNAMES_ALL = load_fontnames(FONTNAMES_PATH_ALL)\n",
    "FONTNAMES_COMMON = load_fontnames(FONTNAMES_PATH_COMMON)\n",
    "FONTNAMES_NONSCRIPT = load_fontnames(FONTNAMES_PATH_NONSCRIPT)\n",
    "FONTNAMES_SCRIPT = load_fontnames(FONTNAMES_PATH_SCRIPT)"
   ]
  },
  {
   "cell_type": "markdown",
   "metadata": {},
   "source": [
    "Every time an image is obtained from the above dataset, we apply the following\n",
    "transformation to it. The star of the show is\n",
    "[`RandomAffine`](https://pytorch.org/vision/main/generated/torchvision.transforms.RandomAffine.html#torchvision.transforms.RandomAffine),\n",
    "which can rotate, shear and scale randomly. This is called as Image Augmentation,\n",
    "and it helps create variants of the same image.\n",
    "\n",
    "Explanation for normalization:\n",
    "[Understanding transform.Normalize( ) - vision - PyTorch Forums](https://discuss.pytorch.org/t/understanding-transform-normalize/21730/2)"
   ]
  },
  {
   "cell_type": "code",
   "execution_count": 4,
   "metadata": {},
   "outputs": [],
   "source": [
    "transform_image = transforms.Compose([\n",
    "    transforms.ToImage(),\n",
    "    transforms.RandomAffine(degrees=5, shear=0, scale=(0.8, 1.0), fill=255), # type: ignore\n",
    "    transforms.ToDtype(torch.float32, scale=True), # Converts [0, 255] to [0.0, 1.0]\n",
    "    transforms.Normalize((0.5,), (0.5,)), # Converts [0.0, 1.0] to [-1.0, 1.0]\n",
    "])\n",
    "\n",
    "transform_image_no_affine = transforms.Compose([\n",
    "    transforms.ToImage(),\n",
    "    transforms.ToDtype(torch.float32, scale=True), # Converts [0, 255] to [0.0, 1.0]\n",
    "    transforms.Normalize((0.5,), (0.5,)), # Converts [0.0, 1.0] to [-1.0, 1.0]\n",
    "])\n",
    "\n",
    "transform_for_printing = transforms.Compose([\n",
    "    transforms.Normalize((-1.0,), (2.0,)), # Converts [-1.0, 1.0] to [0.0, 1.0]\n",
    "    transforms.ToPILImage(), # Creates a PIL image out of it\n",
    "])"
   ]
  },
  {
   "cell_type": "markdown",
   "metadata": {},
   "source": [
    "GENERATE the dataset:"
   ]
  },
  {
   "cell_type": "code",
   "execution_count": 5,
   "metadata": {},
   "outputs": [],
   "source": [
    "# train_dataset = FontDataset(characters, transform_image=transform_image)\n",
    "# train_loader = DataLoader(train_dataset, batch_size=32, shuffle=True)\n",
    "\n",
    "ALNUM = \"QWERTYUIOPASDFGHJKLZXCVBNMqwertyuiopasdfghjklzxcvbnm0123456789\"\n",
    "\n",
    "# train_dataset = FontDatasetCustom(list(ALNUM), FONTNAMES_ALL, [30,50,80,200,], 128, transform_image=transform_image, color=0, bg=255)\n",
    "# train_dataset = FontDatasetCustom([\"A\"], [\"Arial\"], [20,60,130,200], 128, transform_image=transform_image, color=0, bg=255)\n",
    "train_dataset = FontDatasetCustom(list(ALNUM), FONTNAMES_ALL, [20,30,45,125,], 64, transform_image=transform_image, color=0, bg=255)\n",
    "train_loader = DataLoader(train_dataset, batch_size=128, shuffle=True)\n"
   ]
  },
  {
   "cell_type": "code",
   "execution_count": 8,
   "metadata": {},
   "outputs": [
    {
     "name": "stdout",
     "output_type": "stream",
     "text": [
      "{'0xProto': 0, 'Agency FB': 1, 'Algerian': 2, 'Arial': 3, 'Arial Rounded MT Bold': 4, 'Bahnschrift': 5, 'Baskerville Old Face': 6, 'Bauhaus 93': 7, 'Bell MT': 8, 'Berlin Sans FB': 9, 'Berlin Sans FB Demi': 10, 'Bernard MT Condensed': 11, 'Blackadder ITC': 12, 'Bodoni MT': 13, 'Book Antiqua': 14, 'Bookman Old Style': 15, 'Bradley Hand ITC': 16, 'Britannic Bold': 17, 'Broadway': 18, 'Brush Script MT': 19, 'Calibri': 20, 'Californian FB': 21, 'Calisto MT': 22, 'Cambria': 23, 'Candara': 24, 'Castellar': 25, 'Centaur': 26, 'Century': 27, 'Century Gothic': 28, 'Century Schoolbook': 29, 'Chiller': 30, 'Colonna MT': 31, 'Comic Sans MS': 32, 'Consolas': 33, 'Constantia': 34, 'Cooper Black': 35, 'Copperplate Gothic Bold': 36, 'Copperplate Gothic Light': 37, 'Corbel': 38, 'Courier New': 39, 'Curlz MT': 40, 'DejaVu Sans': 41, 'DejaVu Sans Mono': 42, 'DejaVu Serif': 43, 'Droid Sans Mono Slashed': 44, 'Dubai': 45, 'Ebrima': 46, 'Edwardian Script ITC': 47, 'Elephant': 48, 'Engravers MT': 49, 'Eras Bold ITC': 50, 'Eras Demi ITC': 51, 'Eras Light ITC': 52, 'Eras Medium ITC': 53, 'Felix Titling': 54, 'Footlight MT Light': 55, 'Forte': 56, 'Franklin Gothic Book': 57, 'Franklin Gothic Demi': 58, 'Franklin Gothic Demi Cond': 59, 'Franklin Gothic Heavy': 60, 'Franklin Gothic Medium': 61, 'Franklin Gothic Medium Cond': 62, 'Freestyle Script': 63, 'French Script MT': 64, 'Gabriola': 65, 'Gadugi': 66, 'Garamond': 67, 'Georgia': 68, 'Gigi': 69, 'Gill Sans MT': 70, 'Gill Sans MT Condensed': 71, 'Gill Sans MT Ext Condensed Bold': 72, 'Gill Sans Ultra Bold': 73, 'Gill Sans Ultra Bold Condensed': 74, 'Gloucester MT Extra Condensed': 75, 'Goudy Old Style': 76, 'Goudy Stout': 77, 'Haettenschweiler': 78, 'Harlow Solid Italic': 79, 'Harrington': 80, 'High Tower Text': 81, 'Impact': 82, 'Imprint MT Shadow': 83, 'Informal Roman': 84, 'Ink Free': 85, 'Javanese Text': 86, 'Jokerman': 87, 'Juice ITC': 88, 'Kristen ITC': 89, 'Kunstler Script': 90, 'Leelawadee': 91, 'Leelawadee UI': 92, 'Lucida Bright': 93, 'Lucida Calligraphy': 94, 'Lucida Console': 95, 'Lucida Fax': 96, 'Lucida Handwriting': 97, 'Lucida Sans': 98, 'Lucida Sans Typewriter': 99, 'Lucida Sans Unicode': 100, 'MS Gothic': 101, 'MS Reference Sans Serif': 102, 'MV Boli': 103, 'Magneto': 104, 'Maiandra GD': 105, 'Malgun Gothic': 106, 'Matura MT Script Capitals': 107, 'Microsoft Himalaya': 108, 'Microsoft JhengHei': 109, 'Microsoft New Tai Lue': 110, 'Microsoft PhagsPa': 111, 'Microsoft Sans Serif': 112, 'Microsoft Tai Le': 113, 'Microsoft YaHei': 114, 'Microsoft Yi Baiti': 115, 'Mistral': 116, 'Modern No. 20': 117, 'Mongolian Baiti': 118, 'Monotype Corsiva': 119, 'Myanmar Text': 120, 'Niagara Engraved': 121, 'Niagara Solid': 122, 'Nirmala UI': 123, 'OCR A Extended': 124, 'Old English Text MT': 125, 'Onyx': 126, 'Open Sans': 127, 'Palace Script MT': 128, 'Palatino Linotype': 129, 'Papyrus': 130, 'Parchment': 131, 'Perpetua': 132, 'Perpetua Titling MT': 133, 'Playbill': 134, 'Poor Richard': 135, 'Pristina': 136, 'Rage Italic': 137, 'Ravie': 138, 'Rockwell': 139, 'Rockwell Condensed': 140, 'Rockwell Extra Bold': 141, 'STIXGeneral': 142, 'Script MT Bold': 143, 'Segoe Print': 144, 'Segoe Script': 145, 'Segoe UI': 146, 'Showcard Gothic': 147, 'SimSun': 148, 'Sitka': 149, 'Snap ITC': 150, 'Stencil': 151, 'Sylfaen': 152, 'Tahoma': 153, 'Tempus Sans ITC': 154, 'Times New Roman': 155, 'Trebuchet MS': 156, 'Tw Cen MT': 157, 'Tw Cen MT Condensed': 158, 'Tw Cen MT Condensed Extra Bold': 159, 'Verdana': 160, 'Victor Mono': 161, 'Viner Hand ITC': 162, 'Vivaldi': 163, 'Vladimir Script': 164, 'Wide Latin': 165, 'Yu Gothic': 166}\n",
      "['0xProto', 'Agency FB', 'Algerian', 'Arial', 'Arial Rounded MT Bold', 'Bahnschrift', 'Baskerville Old Face', 'Bauhaus 93', 'Bell MT', 'Berlin Sans FB', 'Berlin Sans FB Demi', 'Bernard MT Condensed', 'Blackadder ITC', 'Bodoni MT', 'Book Antiqua', 'Bookman Old Style', 'Bradley Hand ITC', 'Britannic Bold', 'Broadway', 'Brush Script MT', 'Calibri', 'Californian FB', 'Calisto MT', 'Cambria', 'Candara', 'Castellar', 'Centaur', 'Century', 'Century Gothic', 'Century Schoolbook', 'Chiller', 'Colonna MT', 'Comic Sans MS', 'Consolas', 'Constantia', 'Cooper Black', 'Copperplate Gothic Bold', 'Copperplate Gothic Light', 'Corbel', 'Courier New', 'Curlz MT', 'DejaVu Sans', 'DejaVu Sans Mono', 'DejaVu Serif', 'Droid Sans Mono Slashed', 'Dubai', 'Ebrima', 'Edwardian Script ITC', 'Elephant', 'Engravers MT', 'Eras Bold ITC', 'Eras Demi ITC', 'Eras Light ITC', 'Eras Medium ITC', 'Felix Titling', 'Footlight MT Light', 'Forte', 'Franklin Gothic Book', 'Franklin Gothic Demi', 'Franklin Gothic Demi Cond', 'Franklin Gothic Heavy', 'Franklin Gothic Medium', 'Franklin Gothic Medium Cond', 'Freestyle Script', 'French Script MT', 'Gabriola', 'Gadugi', 'Garamond', 'Georgia', 'Gigi', 'Gill Sans MT', 'Gill Sans MT Condensed', 'Gill Sans MT Ext Condensed Bold', 'Gill Sans Ultra Bold', 'Gill Sans Ultra Bold Condensed', 'Gloucester MT Extra Condensed', 'Goudy Old Style', 'Goudy Stout', 'Haettenschweiler', 'Harlow Solid Italic', 'Harrington', 'High Tower Text', 'Impact', 'Imprint MT Shadow', 'Informal Roman', 'Ink Free', 'Javanese Text', 'Jokerman', 'Juice ITC', 'Kristen ITC', 'Kunstler Script', 'Leelawadee', 'Leelawadee UI', 'Lucida Bright', 'Lucida Calligraphy', 'Lucida Console', 'Lucida Fax', 'Lucida Handwriting', 'Lucida Sans', 'Lucida Sans Typewriter', 'Lucida Sans Unicode', 'MS Gothic', 'MS Reference Sans Serif', 'MV Boli', 'Magneto', 'Maiandra GD', 'Malgun Gothic', 'Matura MT Script Capitals', 'Microsoft Himalaya', 'Microsoft JhengHei', 'Microsoft New Tai Lue', 'Microsoft PhagsPa', 'Microsoft Sans Serif', 'Microsoft Tai Le', 'Microsoft YaHei', 'Microsoft Yi Baiti', 'Mistral', 'Modern No. 20', 'Mongolian Baiti', 'Monotype Corsiva', 'Myanmar Text', 'Niagara Engraved', 'Niagara Solid', 'Nirmala UI', 'OCR A Extended', 'Old English Text MT', 'Onyx', 'Open Sans', 'Palace Script MT', 'Palatino Linotype', 'Papyrus', 'Parchment', 'Perpetua', 'Perpetua Titling MT', 'Playbill', 'Poor Richard', 'Pristina', 'Rage Italic', 'Ravie', 'Rockwell', 'Rockwell Condensed', 'Rockwell Extra Bold', 'STIXGeneral', 'Script MT Bold', 'Segoe Print', 'Segoe Script', 'Segoe UI', 'Showcard Gothic', 'SimSun', 'Sitka', 'Snap ITC', 'Stencil', 'Sylfaen', 'Tahoma', 'Tempus Sans ITC', 'Times New Roman', 'Trebuchet MS', 'Tw Cen MT', 'Tw Cen MT Condensed', 'Tw Cen MT Condensed Extra Bold', 'Verdana', 'Victor Mono', 'Viner Hand ITC', 'Vivaldi', 'Vladimir Script', 'Wide Latin', 'Yu Gothic']\n"
     ]
    }
   ],
   "source": [
    "print(train_dataset.label_mapping)\n",
    "print(train_dataset.label_reverse_mapping)"
   ]
  },
  {
   "cell_type": "markdown",
   "metadata": {},
   "source": [
    "Display a sample image:"
   ]
  },
  {
   "cell_type": "code",
   "execution_count": 79,
   "metadata": {},
   "outputs": [
    {
     "name": "stdout",
     "output_type": "stream",
     "text": [
      "41416\n",
      "Shapes:\n",
      "    images.shape     = torch.Size([128, 1, 64, 64])\n",
      "    char_codes.shape = torch.Size([128])\n",
      "    labels.shape     = torch.Size([128])\n",
      "\n",
      "Example: g Tahoma\n"
     ]
    },
    {
     "data": {
      "image/jpeg": "[encoded data removed]",
      "image/png": "[encoded data removed]",
      "text/plain": [
       "<PIL.Image.Image image mode=L size=64x64>"
      ]
     },
     "metadata": {},
     "output_type": "display_data"
    }
   ],
   "source": [
    "print(len(train_dataset))\n",
    "print(\"Shapes:\")\n",
    "for images, char_codes, labels in train_loader:\n",
    "    print(f\"    {images.shape     = }\") # should be (batch_size, 1, 20, 20)\n",
    "    print(f\"    {char_codes.shape = }\") # should be (batch_size,)\n",
    "    print(f\"    {labels.shape     = }\") # should be (batch_size,)\n",
    "\n",
    "    print(\n",
    "        \"\\nExample:\",\n",
    "        chr(int(char_codes[0])),\n",
    "        train_dataset.label_reverse_mapping[int(labels[0])],\n",
    "    )\n",
    "    display(transform_for_printing(images[0]))\n",
    "\n",
    "    break"
   ]
  },
  {
   "cell_type": "markdown",
   "metadata": {},
   "source": [
    "\n",
    "---\n",
    "\n",
    "# **3. CNN Model - Creation and training**"
   ]
  },
  {
   "cell_type": "markdown",
   "metadata": {},
   "source": [
    "## Model description\n",
    "\n",
    "The model's summary is as follows:\n",
    "Since there are two inputs, namely Image and Character code, we pass them\n",
    "through separate sequences of layers, and then concat their outputs. This\n",
    "concatenated output is then fed into regular NN layers.\n",
    "\n",
    "Note:\n",
    "- All **Conv2d** layers have a 3x3 kernel with padding 1. Its input and output denotes number of images/. TODO:\n",
    "- All **MaxPool2d** layers have a 2x2 kernel with stride 2, effectively halving the resolution. Its input and output denotes resolution of the image.\n",
    "\n",
    "*Sequence 1:*\n",
    "| #    | Input   | Layer           | Output  |\n",
    "| ---: | ---     | ---             | ---     |\n",
    "|      |         | one 20×20 Image |         |\n",
    "| 1.   | $1$     | Conv2d          | $16$    |\n",
    "| 2.   | $20×20$ | MaxPool2d       | $10×10$ |\n",
    "| 3.   | $16$    | Conv2d          | $32$    |\n",
    "| 4.   | $10×10$ | MaxPool2d       | $5×5$   |\n",
    "| 5.   | $32$    | Conv2d          | $64$<b style=\"color: red\">*</b>  |\n",
    "| 6.   | $5×5$   | MaxPool2d       | $2×2$<b style=\"color: red\">*</b> |\n",
    "|      |         | $64×2×2$        |         |\n",
    "\n",
    "*Sequence 2:*\n",
    "| #    | Input    | Layer           | Output          |\n",
    "| ---: | ---      | ---             | ---             |\n",
    "|      |          | Character code  |                 |\n",
    "| 1.   | 65533+10 | Embedding       | `char_code_dim` |\n",
    "|      |          | `char_code_dim` |                 |\n",
    "\n",
    "Concat of *Sequence 1* and *Sequence 2* gives\n",
    "$64\\times 2\\times 2 +$ `char_code_dim` values.\n",
    "\n",
    "This is then passed on to the following NN layers:\n",
    "| #    | Input   | Layer       | Output  |\n",
    "| ---: | ---     | ---         | ---     |\n",
    "| 1.   | $64\\times 2\\times 2 +$ `char_code_dim` | Linear | $128$ |\n",
    "| 2.   | $128$ | Linear | `num_fonts` |\n"
   ]
  },
  {
   "cell_type": "code",
   "execution_count": 9,
   "metadata": {},
   "outputs": [],
   "source": [
    "class FontIdentificationModel(nn.Module):\n",
    "    def __init__(self, num_fonts, largest_char_code: int, char_code_dim=64):\n",
    "        super(FontIdentificationModel, self).__init__()\n",
    "\n",
    "        # CNN https://towardsdatascience.com/conv2d-to-finally-understand-what-happens-in-the-forward-pass-1bbaafb0b148\n",
    "        # For Conv2d layers, we neither use stride>1 nor dilation, since the\n",
    "        # images are already low in resolution.\n",
    "        self.pool = nn.MaxPool2d(kernel_size=2, stride=2)\n",
    "        self.dropout = nn.Dropout2d(0.3)\n",
    "\n",
    "        # The sequence of layers below are as described in \"Sequence 1\" above.\n",
    "        self.layer1_conv = nn.Conv2d(1, 128, kernel_size=15, padding=7) # the 1 input stands for 1-channel image i.e. grayscale.\n",
    "        self.layer1_conv_bn = nn.BatchNorm2d(128)\n",
    "        self.layer2_conv = nn.Conv2d(128, 64, kernel_size=15, padding=7)\n",
    "        self.layer2_conv_bn = nn.BatchNorm2d(64)\n",
    "        self.layer3_conv = nn.Conv2d(64, 32, kernel_size=7, padding=3)\n",
    "        self.layer3_conv_bn = nn.BatchNorm2d(32)\n",
    "        self.layer4_conv = nn.Conv2d(32, 32, kernel_size=3, padding=1)\n",
    "        self.layer4_conv_bn = nn.BatchNorm2d(32)\n",
    "\n",
    "        # The sequence of (one) layer below is as described in \"Sequence 2\" above.\n",
    "        self.char_code_embedding = nn.Embedding(largest_char_code+10, char_code_dim)\n",
    "\n",
    "        # The above two sequences are concatenated (in `forward()`) and then fed\n",
    "        # to regular NN layers.\n",
    "        self.layer5_fc = nn.Linear(32 * 8 * 8 + char_code_dim, 256)\n",
    "        self.layer6_fc = nn.Linear(256, num_fonts)\n",
    "\n",
    "    def forward(self, image, char_code):\n",
    "        # Image feature extraction\n",
    "        x = self.dropout(self.layer1_conv_bn(self.pool(F.relu(self.layer1_conv(image)))))\n",
    "        x = self.dropout(self.layer2_conv_bn(self.pool(F.relu(self.layer2_conv(x)))))\n",
    "        x = self.dropout(self.layer3_conv_bn(self.pool(F.relu(self.layer3_conv(x)))))\n",
    "        x =              self.layer4_conv_bn(          F.relu(self.layer4_conv(x)))\n",
    "        x = torch.flatten(x, 1)\n",
    "        # x = x.view(x.size(0), -1)  # Flatten in-place(?)\n",
    "\n",
    "        # Character code embedding\n",
    "        char_features = self.char_code_embedding(char_code)\n",
    "\n",
    "        # Concatenate Sequence 1 and Sequence 2 as described above.\n",
    "        combined = torch.cat((x, char_features), dim=1)\n",
    "\n",
    "        # Fully connected layers\n",
    "        x = F.relu(self.layer5_fc(combined))\n",
    "        x = self.layer6_fc(x)\n",
    "        # x = self.layer6_softmax(x)\n",
    "        return x\n"
   ]
  },
  {
   "cell_type": "markdown",
   "metadata": {},
   "source": [
    "## Model training"
   ]
  },
  {
   "cell_type": "code",
   "execution_count": 35,
   "metadata": {},
   "outputs": [
    {
     "data": {
      "application/vnd.jupyter.widget-view+json": {
       "model_id": "b61b6b75a1ae413fa82c6efff1880e5d",
       "version_major": 2,
       "version_minor": 0
      },
      "text/plain": [
       "Checkbox(value=False, description='Use CPU forcefully')"
      ]
     },
     "execution_count": 35,
     "metadata": {},
     "output_type": "execute_result"
    }
   ],
   "source": [
    "# Benefit of CPU-only: errors will show up correctly, hence useful for debugging.\n",
    "FORCE_USE_CPU = ipywidgets.Checkbox(value=False, description=\"Use CPU forcefully\")\n",
    "FORCE_USE_CPU"
   ]
  },
  {
   "cell_type": "code",
   "execution_count": 36,
   "metadata": {},
   "outputs": [
    {
     "name": "stdout",
     "output_type": "stream",
     "text": [
      "Starting Epoch 0, number of batches: 324... (batch size: 128)\n",
      "    Epoch 0, batch     1 done. Loss: 6.098939418792725 (0.64s since last print)\n",
      "    Epoch 0, batch   109 done. Loss: 4.879773756779662 (23.30s since last print)\n",
      "    Epoch 0, batch   217 done. Loss: 4.548040508674586 (27.53s since last print)\n",
      "    Epoch 0, batch   324 done. Loss: 4.318683077523738 (74.92 sec for epoch)\n",
      "Starting Epoch 1, number of batches: 324... (batch size: 72)\n",
      "    Epoch 1, batch     1 done. Loss: 3.5947751998901367 (23.66s since last print)\n",
      "    Epoch 1, batch   109 done. Loss: 3.5428197121401444 (22.91s since last print)\n",
      "    Epoch 1, batch   217 done. Loss: 3.4399325550975886 (22.50s since last print)\n",
      "    Epoch 1, batch   324 done. Loss: 3.3651400083377037 (67.60 sec for epoch)\n",
      "Starting Epoch 2, number of batches: 324... (batch size: 72)\n",
      "    Epoch 2, batch     1 done. Loss: 2.921557664871216 (22.21s since last print)\n",
      "    Epoch 2, batch   109 done. Loss: 2.970694235705454 (22.82s since last print)\n",
      "    Epoch 2, batch   217 done. Loss: 2.950574384856334 (23.14s since last print)\n",
      "    Epoch 2, batch   324 done. Loss: 2.915415213431841 (70.03 sec for epoch)\n",
      "Starting Epoch 3, number of batches: 324... (batch size: 72)\n",
      "    Epoch 3, batch     1 done. Loss: 2.5856308937072754 (24.11s since last print)\n",
      "    Epoch 3, batch   109 done. Loss: 2.663320462638085 (22.10s since last print)\n",
      "    Epoch 3, batch   217 done. Loss: 2.637006116902224 (22.34s since last print)\n",
      "    Epoch 3, batch   324 done. Loss: 2.6156732425277616 (66.92 sec for epoch)\n",
      "Starting Epoch 4, number of batches: 324... (batch size: 72)\n",
      "    Epoch 4, batch     1 done. Loss: 2.294551372528076 (22.49s since last print)\n",
      "    Epoch 4, batch   109 done. Loss: 2.4119249921326245 (22.05s since last print)\n",
      "    Epoch 4, batch   217 done. Loss: 2.400727862037272 (21.63s since last print)\n",
      "    Epoch 4, batch   324 done. Loss: 2.384906002032904 (65.51 sec for epoch)\n",
      "Starting Epoch 5, number of batches: 324... (batch size: 72)\n",
      "    Epoch 5, batch     1 done. Loss: 2.123577117919922 (21.85s since last print)\n",
      "    Epoch 5, batch   109 done. Loss: 2.1993910992911103 (21.73s since last print)\n",
      "    Epoch 5, batch   217 done. Loss: 2.2003046026976976 (21.85s since last print)\n",
      "    Epoch 5, batch   324 done. Loss: 2.1908775987448514 (65.37 sec for epoch)\n",
      "Starting Epoch 6, number of batches: 324... (batch size: 72)\n",
      "    Epoch 6, batch     1 done. Loss: 1.8692638874053955 (21.79s since last print)\n",
      "    Epoch 6, batch   109 done. Loss: 2.0334368966041354 (23.59s since last print)\n",
      "    Epoch 6, batch   217 done. Loss: 2.037989931721841 (23.10s since last print)\n",
      "    Epoch 6, batch   324 done. Loss: 2.038008920940352 (69.31 sec for epoch)\n",
      "Starting Epoch 7, number of batches: 324... (batch size: 72)\n",
      "    Epoch 7, batch     1 done. Loss: 1.8197330236434937 (22.65s since last print)\n",
      "    Epoch 7, batch   109 done. Loss: 1.9065554152934923 (23.07s since last print)\n",
      "    Epoch 7, batch   217 done. Loss: 1.9098888893830612 (23.46s since last print)\n",
      "    Epoch 7, batch   324 done. Loss: 1.905175291461709 (69.45 sec for epoch)\n",
      "Starting Epoch 8, number of batches: 324... (batch size: 72)\n",
      "    Epoch 8, batch     1 done. Loss: 1.570356845855713 (22.96s since last print)\n",
      "    Epoch 8, batch   109 done. Loss: 1.8098676631210047 (23.20s since last print)\n",
      "    Epoch 8, batch   217 done. Loss: 1.7986608474485335 (23.07s since last print)\n",
      "    Epoch 8, batch   324 done. Loss: 1.790977379054199 (69.22 sec for epoch)\n",
      "Starting Epoch 9, number of batches: 324... (batch size: 72)\n",
      "    Epoch 9, batch     1 done. Loss: 1.8980567455291748 (23.03s since last print)\n",
      "    Epoch 9, batch   109 done. Loss: 1.694644935634158 (22.98s since last print)\n",
      "    Epoch 9, batch   217 done. Loss: 1.6929737109742407 (22.71s since last print)\n",
      "    Epoch 9, batch   324 done. Loss: 1.6950644865448092 (68.05 sec for epoch)\n",
      "Starting Epoch 10, number of batches: 324... (batch size: 72)\n",
      "    Epoch 10, batch     1 done. Loss: 1.4288771152496338 (22.32s since last print)\n",
      "    Epoch 10, batch   109 done. Loss: 1.5793877785358954 (24.12s since last print)\n",
      "    Epoch 10, batch   217 done. Loss: 1.5940721320666476 (23.14s since last print)\n",
      "    Epoch 10, batch   324 done. Loss: 1.610874745948815 (70.54 sec for epoch)\n",
      "Starting Epoch 11, number of batches: 324... (batch size: 72)\n",
      "    Epoch 11, batch     1 done. Loss: 1.5226491689682007 (23.30s since last print)\n",
      "    Epoch 11, batch   109 done. Loss: 1.5157039340482938 (23.21s since last print)\n",
      "    Epoch 11, batch   217 done. Loss: 1.53187493190238 (22.57s since last print)\n",
      "    Epoch 11, batch   324 done. Loss: 1.538137808258151 (68.47 sec for epoch)\n",
      "Starting Epoch 12, number of batches: 324... (batch size: 72)\n",
      "    Epoch 12, batch     1 done. Loss: 1.6854091882705688 (22.70s since last print)\n",
      "    Epoch 12, batch   109 done. Loss: 1.46006354826306 (23.36s since last print)\n",
      "    Epoch 12, batch   217 done. Loss: 1.4724608407042543 (22.58s since last print)\n",
      "    Epoch 12, batch   324 done. Loss: 1.4672448013299777 (69.09 sec for epoch)\n",
      "Starting Epoch 13, number of batches: 324... (batch size: 72)\n",
      "    Epoch 13, batch     1 done. Loss: 1.584960699081421 (23.16s since last print)\n",
      "    Epoch 13, batch   109 done. Loss: 1.4017574469977563 (23.45s since last print)\n",
      "    Epoch 13, batch   217 done. Loss: 1.4109547753487863 (23.88s since last print)\n",
      "    Epoch 13, batch   324 done. Loss: 1.416331473324034 (70.19 sec for epoch)\n",
      "Starting Epoch 14, number of batches: 324... (batch size: 72)\n",
      "    Epoch 14, batch     1 done. Loss: 1.304490327835083 (22.88s since last print)\n",
      "    Epoch 14, batch   109 done. Loss: 1.3345161550635591 (22.71s since last print)\n",
      "    Epoch 14, batch   217 done. Loss: 1.352186255466004 (23.00s since last print)\n",
      "    Epoch 14, batch   324 done. Loss: 1.3608526868952646 (68.23 sec for epoch)\n",
      "Starting Epoch 15, number of batches: 324... (batch size: 72)\n",
      "    Epoch 15, batch     1 done. Loss: 1.415061593055725 (22.55s since last print)\n",
      "    Epoch 15, batch   109 done. Loss: 1.281658366732641 (22.71s since last print)\n",
      "    Epoch 15, batch   217 done. Loss: 1.2972051212864537 (22.81s since last print)\n",
      "    Epoch 15, batch   324 done. Loss: 1.309399922688802 (68.70 sec for epoch)\n",
      "Starting Epoch 16, number of batches: 324... (batch size: 72)\n",
      "    Epoch 16, batch     1 done. Loss: 1.074611783027649 (23.19s since last print)\n",
      "    Epoch 16, batch   109 done. Loss: 1.2494777719908898 (23.75s since last print)\n",
      "    Epoch 16, batch   217 done. Loss: 1.258444582262347 (22.22s since last print)\n",
      "    Epoch 16, batch   324 done. Loss: 1.267337953970756 (68.41 sec for epoch)\n",
      "Starting Epoch 17, number of batches: 324... (batch size: 72)\n",
      "    Epoch 17, batch     1 done. Loss: 1.1140050888061523 (22.46s since last print)\n",
      "    Epoch 17, batch   109 done. Loss: 1.209112552874679 (22.51s since last print)\n",
      "    Epoch 17, batch   217 done. Loss: 1.217428887769374 (22.80s since last print)\n",
      "    Epoch 17, batch   324 done. Loss: 1.228935009719413 (67.69 sec for epoch)\n",
      "Starting Epoch 18, number of batches: 324... (batch size: 72)\n",
      "    Epoch 18, batch     1 done. Loss: 1.2389652729034424 (22.40s since last print)\n",
      "    Epoch 18, batch   109 done. Loss: 1.1807400185033816 (22.89s since last print)\n",
      "    Epoch 18, batch   217 done. Loss: 1.1793225275756027 (23.44s since last print)\n",
      "    Epoch 18, batch   324 done. Loss: 1.190222684431959 (69.08 sec for epoch)\n",
      "Starting Epoch 19, number of batches: 324... (batch size: 72)\n",
      "    Epoch 19, batch     1 done. Loss: 1.1960628032684326 (22.77s since last print)\n",
      "    Epoch 19, batch   109 done. Loss: 1.1488796286626692 (23.44s since last print)\n",
      "    Epoch 19, batch   217 done. Loss: 1.1637268753095706 (23.11s since last print)\n",
      "    Epoch 19, batch   324 done. Loss: 1.1663004106577533 (69.20 sec for epoch)\n",
      "Starting Epoch 20, number of batches: 324... (batch size: 72)\n",
      "    Epoch 20, batch     1 done. Loss: 1.0735301971435547 (22.68s since last print)\n",
      "    Epoch 20, batch   109 done. Loss: 1.0857391034791228 (23.31s since last print)\n",
      "    Epoch 20, batch   217 done. Loss: 1.1180486140712615 (22.55s since last print)\n",
      "    Epoch 20, batch   324 done. Loss: 1.1334156953258279 (67.98 sec for epoch)\n",
      "Starting Epoch 21, number of batches: 324... (batch size: 72)\n",
      "    Epoch 21, batch     1 done. Loss: 1.0444457530975342 (22.11s since last print)\n",
      "    Epoch 21, batch   109 done. Loss: 1.0854825153263337 (22.69s since last print)\n",
      "    Epoch 21, batch   217 done. Loss: 1.0972571603713497 (22.26s since last print)\n",
      "    Epoch 21, batch   324 done. Loss: 1.1091940469212003 (67.38 sec for epoch)\n",
      "Starting Epoch 22, number of batches: 324... (batch size: 72)\n",
      "    Epoch 22, batch     1 done. Loss: 0.8193805813789368 (22.48s since last print)\n",
      "    Epoch 22, batch   109 done. Loss: 1.0611077552541681 (22.53s since last print)\n",
      "    Epoch 22, batch   217 done. Loss: 1.076230113407434 (22.35s since last print)\n",
      "    Epoch 22, batch   324 done. Loss: 1.0857078810164957 (66.65 sec for epoch)\n",
      "Starting Epoch 23, number of batches: 324... (batch size: 72)\n",
      "    Epoch 23, batch     1 done. Loss: 1.144902229309082 (21.77s since last print)\n",
      "    Epoch 23, batch   109 done. Loss: 1.03664250056678 (21.30s since last print)\n",
      "    Epoch 23, batch   217 done. Loss: 1.0440038272312708 (21.45s since last print)\n",
      "    Epoch 23, batch   324 done. Loss: 1.0511287792965218 (64.81 sec for epoch)\n",
      "Starting Epoch 24, number of batches: 324... (batch size: 72)\n",
      "    Epoch 24, batch     1 done. Loss: 0.9107890129089355 (22.10s since last print)\n",
      "    Epoch 24, batch   109 done. Loss: 1.005317037258673 (22.41s since last print)\n",
      "    Epoch 24, batch   217 done. Loss: 1.015761795955869 (23.84s since last print)\n",
      "    Epoch 24, batch   324 done. Loss: 1.0328809517769166 (69.90 sec for epoch)\n",
      "Starting Epoch 25, number of batches: 324... (batch size: 72)\n",
      "    Epoch 25, batch     1 done. Loss: 1.0646355152130127 (23.65s since last print)\n",
      "    Epoch 25, batch   109 done. Loss: 0.9914139569352526 (23.90s since last print)\n",
      "    Epoch 25, batch   217 done. Loss: 0.9926379100518292 (22.73s since last print)\n",
      "    Epoch 25, batch   324 done. Loss: 1.008563780490263 (69.38 sec for epoch)\n",
      "Starting Epoch 26, number of batches: 324... (batch size: 72)\n",
      "    Epoch 26, batch     1 done. Loss: 0.8728439807891846 (22.76s since last print)\n",
      "    Epoch 26, batch   109 done. Loss: 0.9683494059317702 (22.24s since last print)\n",
      "    Epoch 26, batch   217 done. Loss: 0.9839163678033012 (21.88s since last print)\n",
      "    Epoch 26, batch   324 done. Loss: 0.999676517682311 (66.85 sec for epoch)\n",
      "Starting Epoch 27, number of batches: 324... (batch size: 72)\n",
      "    Epoch 27, batch     1 done. Loss: 0.9084650874137878 (22.76s since last print)\n",
      "    Epoch 27, batch   109 done. Loss: 0.958763951008473 (22.69s since last print)\n",
      "    Epoch 27, batch   217 done. Loss: 0.9795206760481205 (23.29s since last print)\n",
      "    Epoch 27, batch   324 done. Loss: 0.9865050426235905 (69.21 sec for epoch)\n",
      "Starting Epoch 28, number of batches: 324... (batch size: 72)\n",
      "    Epoch 28, batch     1 done. Loss: 0.6422083377838135 (23.23s since last print)\n",
      "    Epoch 28, batch   109 done. Loss: 0.9329120833939368 (22.20s since last print)\n",
      "    Epoch 28, batch   217 done. Loss: 0.9464092845191604 (22.05s since last print)\n",
      "    Epoch 28, batch   324 done. Loss: 0.9618194116118514 (66.01 sec for epoch)\n",
      "Starting Epoch 29, number of batches: 324... (batch size: 72)\n",
      "    Epoch 29, batch     1 done. Loss: 0.904453456401825 (21.77s since last print)\n",
      "    Epoch 29, batch   109 done. Loss: 0.9216640181497696 (24.34s since last print)\n",
      "    Epoch 29, batch   217 done. Loss: 0.9334498270316058 (23.28s since last print)\n",
      "    Epoch 29, batch   324 done. Loss: 0.9469348267640596 (70.31 sec for epoch)\n"
     ]
    }
   ],
   "source": [
    "device = torch.device('cuda' if torch.cuda.is_available() and not FORCE_USE_CPU.value else 'cpu')\n",
    "model = FontIdentificationModel(num_fonts=len(train_dataset.label_mapping), largest_char_code=max(train_dataset.codes), char_code_dim=128).to(device)\n",
    "\n",
    "def weights_init(m):\n",
    "    if isinstance(m, nn.Conv2d) or isinstance(m, nn.Linear):\n",
    "        nn.init.kaiming_normal_(m.weight)\n",
    "model.apply(weights_init)\n",
    "\n",
    "# https://pytorch.org/tutorials/beginner/blitz/cifar10_tutorial.html#train-the-network\n",
    "criterion = nn.CrossEntropyLoss()  # Suitable for classification\n",
    "# optimizer = optim.Adam(model.parameters(), lr=0.03)\n",
    "optimizer = torch.optim.SGD(model.parameters(), lr=0.01, momentum=0.9, weight_decay=0.0005)\n",
    "scheduler = torch.optim.lr_scheduler.StepLR(optimizer, step_size=30, gamma=0.1)\n",
    "\n",
    "last_print_time = perf_counter()\n",
    "for epoch in range(30): # Epoch count\n",
    "    model.train()\n",
    "    running_loss = 0.0\n",
    "    epoch_start_time = perf_counter()\n",
    "    print(f\"Starting Epoch {epoch}, number of batches: {len(train_loader)}... (batch size: {len(char_codes)})\")\n",
    "    for i, (images, char_codes, labels) in enumerate(train_loader):\n",
    "        images, char_codes, labels = images.to(device), char_codes.to(device), labels.to(device)\n",
    "\n",
    "        optimizer.zero_grad()\n",
    "        outputs = model(images, char_codes)\n",
    "        loss = criterion(outputs, labels)\n",
    "        loss.backward()\n",
    "        optimizer.step()\n",
    "        running_loss += loss.item()\n",
    "\n",
    "        if i % 108 == 0:\n",
    "            print(f\"    Epoch {epoch}, batch {i+1:5d} done. Loss: {running_loss / (i+1)} ({(now := perf_counter()) - last_print_time:.2f}s since last print)\")\n",
    "            last_print_time = now\n",
    "\n",
    "            # https://pytorch.org/tutorials/beginner/saving_loading_models.html#save-load-state-dict-recommended\n",
    "            torch.save(model.state_dict(), f\"{PATH_MODELS}/e{epoch:02d} b{i+1:05d} - l {running_loss / (i+1):.5f}.pth\")\n",
    "\n",
    "    scheduler.step()\n",
    "    print(f\"    Epoch {epoch}, batch {i+1:5d} done. Loss: {running_loss / len(train_loader)} ({perf_counter() - epoch_start_time:.2f} sec for epoch)\")\n",
    "\n",
    "    # https://pytorch.org/tutorials/beginner/saving_loading_models.html#save-load-state-dict-recommended\n",
    "    torch.save(model.state_dict(), f\"{PATH_MODELS}/e{epoch:02d} b{len(train_loader):05d} - l {running_loss / len(train_loader):.5f} (complete).pth\")\n"
   ]
  },
  {
   "cell_type": "markdown",
   "metadata": {},
   "source": [
    "## Model evaluation"
   ]
  },
  {
   "cell_type": "code",
   "execution_count": 37,
   "metadata": {},
   "outputs": [
    {
     "name": "stdout",
     "output_type": "stream",
     "text": [
      "Testing against same dataset:\n",
      "e29 b00324 - l 0.94693 (complete).pth - Total accuracy: 78.02% (44.88 sec)\n",
      "e28 b00324 - l 0.96182 (complete).pth - Total accuracy: 77.20% (43.93 sec)\n",
      "e27 b00324 - l 0.98651 (complete).pth - Total accuracy: 77.10% (43.74 sec)\n",
      "e26 b00324 - l 0.99968 (complete).pth - Total accuracy: 76.51% (43.11 sec)\n",
      "e25 b00324 - l 1.00856 (complete).pth - Total accuracy: 75.62% (40.00 sec)\n"
     ]
    },
    {
     "ename": "KeyboardInterrupt",
     "evalue": "",
     "output_type": "error",
     "traceback": [
      "\u001b[1;31m---------------------------------------------------------------------------\u001b[0m",
      "\u001b[1;31mKeyboardInterrupt\u001b[0m                         Traceback (most recent call last)",
      "Cell \u001b[1;32mIn[37], line 19\u001b[0m\n\u001b[0;32m     16\u001b[0m index_to_label \u001b[38;5;241m=\u001b[39m {i: label \u001b[38;5;28;01mfor\u001b[39;00m label, i \u001b[38;5;129;01min\u001b[39;00m test_dataset\u001b[38;5;241m.\u001b[39mlabel_mapping\u001b[38;5;241m.\u001b[39mitems()}\n\u001b[0;32m     18\u001b[0m \u001b[38;5;28;01mwith\u001b[39;00m torch\u001b[38;5;241m.\u001b[39mno_grad():\n\u001b[1;32m---> 19\u001b[0m     \u001b[38;5;28;01mfor\u001b[39;00m i, (images, char_codes, labels) \u001b[38;5;129;01min\u001b[39;00m \u001b[38;5;28menumerate\u001b[39m(test_loader):\n\u001b[0;32m     20\u001b[0m         images, char_codes, labels \u001b[38;5;241m=\u001b[39m images\u001b[38;5;241m.\u001b[39mto(device), char_codes\u001b[38;5;241m.\u001b[39mto(device), labels\u001b[38;5;241m.\u001b[39mto(device)\n\u001b[0;32m     22\u001b[0m         \u001b[38;5;66;03m# Forward pass\u001b[39;00m\n",
      "File \u001b[1;32mc:\\Users\\Sreenikethan I\\.conda\\envs\\fds\\Lib\\site-packages\\torch\\utils\\data\\dataloader.py:701\u001b[0m, in \u001b[0;36m_BaseDataLoaderIter.__next__\u001b[1;34m(self)\u001b[0m\n\u001b[0;32m    698\u001b[0m \u001b[38;5;28;01mif\u001b[39;00m \u001b[38;5;28mself\u001b[39m\u001b[38;5;241m.\u001b[39m_sampler_iter \u001b[38;5;129;01mis\u001b[39;00m \u001b[38;5;28;01mNone\u001b[39;00m:\n\u001b[0;32m    699\u001b[0m     \u001b[38;5;66;03m# TODO(https://github.com/pytorch/pytorch/issues/76750)\u001b[39;00m\n\u001b[0;32m    700\u001b[0m     \u001b[38;5;28mself\u001b[39m\u001b[38;5;241m.\u001b[39m_reset()  \u001b[38;5;66;03m# type: ignore[call-arg]\u001b[39;00m\n\u001b[1;32m--> 701\u001b[0m data \u001b[38;5;241m=\u001b[39m \u001b[38;5;28;43mself\u001b[39;49m\u001b[38;5;241;43m.\u001b[39;49m\u001b[43m_next_data\u001b[49m\u001b[43m(\u001b[49m\u001b[43m)\u001b[49m\n\u001b[0;32m    702\u001b[0m \u001b[38;5;28mself\u001b[39m\u001b[38;5;241m.\u001b[39m_num_yielded \u001b[38;5;241m+\u001b[39m\u001b[38;5;241m=\u001b[39m \u001b[38;5;241m1\u001b[39m\n\u001b[0;32m    703\u001b[0m \u001b[38;5;28;01mif\u001b[39;00m (\n\u001b[0;32m    704\u001b[0m     \u001b[38;5;28mself\u001b[39m\u001b[38;5;241m.\u001b[39m_dataset_kind \u001b[38;5;241m==\u001b[39m _DatasetKind\u001b[38;5;241m.\u001b[39mIterable\n\u001b[0;32m    705\u001b[0m     \u001b[38;5;129;01mand\u001b[39;00m \u001b[38;5;28mself\u001b[39m\u001b[38;5;241m.\u001b[39m_IterableDataset_len_called \u001b[38;5;129;01mis\u001b[39;00m \u001b[38;5;129;01mnot\u001b[39;00m \u001b[38;5;28;01mNone\u001b[39;00m\n\u001b[0;32m    706\u001b[0m     \u001b[38;5;129;01mand\u001b[39;00m \u001b[38;5;28mself\u001b[39m\u001b[38;5;241m.\u001b[39m_num_yielded \u001b[38;5;241m>\u001b[39m \u001b[38;5;28mself\u001b[39m\u001b[38;5;241m.\u001b[39m_IterableDataset_len_called\n\u001b[0;32m    707\u001b[0m ):\n",
      "File \u001b[1;32mc:\\Users\\Sreenikethan I\\.conda\\envs\\fds\\Lib\\site-packages\\torch\\utils\\data\\dataloader.py:757\u001b[0m, in \u001b[0;36m_SingleProcessDataLoaderIter._next_data\u001b[1;34m(self)\u001b[0m\n\u001b[0;32m    755\u001b[0m \u001b[38;5;28;01mdef\u001b[39;00m \u001b[38;5;21m_next_data\u001b[39m(\u001b[38;5;28mself\u001b[39m):\n\u001b[0;32m    756\u001b[0m     index \u001b[38;5;241m=\u001b[39m \u001b[38;5;28mself\u001b[39m\u001b[38;5;241m.\u001b[39m_next_index()  \u001b[38;5;66;03m# may raise StopIteration\u001b[39;00m\n\u001b[1;32m--> 757\u001b[0m     data \u001b[38;5;241m=\u001b[39m \u001b[38;5;28;43mself\u001b[39;49m\u001b[38;5;241;43m.\u001b[39;49m\u001b[43m_dataset_fetcher\u001b[49m\u001b[38;5;241;43m.\u001b[39;49m\u001b[43mfetch\u001b[49m\u001b[43m(\u001b[49m\u001b[43mindex\u001b[49m\u001b[43m)\u001b[49m  \u001b[38;5;66;03m# may raise StopIteration\u001b[39;00m\n\u001b[0;32m    758\u001b[0m     \u001b[38;5;28;01mif\u001b[39;00m \u001b[38;5;28mself\u001b[39m\u001b[38;5;241m.\u001b[39m_pin_memory:\n\u001b[0;32m    759\u001b[0m         data \u001b[38;5;241m=\u001b[39m _utils\u001b[38;5;241m.\u001b[39mpin_memory\u001b[38;5;241m.\u001b[39mpin_memory(data, \u001b[38;5;28mself\u001b[39m\u001b[38;5;241m.\u001b[39m_pin_memory_device)\n",
      "File \u001b[1;32mc:\\Users\\Sreenikethan I\\.conda\\envs\\fds\\Lib\\site-packages\\torch\\utils\\data\\_utils\\fetch.py:52\u001b[0m, in \u001b[0;36m_MapDatasetFetcher.fetch\u001b[1;34m(self, possibly_batched_index)\u001b[0m\n\u001b[0;32m     50\u001b[0m         data \u001b[38;5;241m=\u001b[39m \u001b[38;5;28mself\u001b[39m\u001b[38;5;241m.\u001b[39mdataset\u001b[38;5;241m.\u001b[39m__getitems__(possibly_batched_index)\n\u001b[0;32m     51\u001b[0m     \u001b[38;5;28;01melse\u001b[39;00m:\n\u001b[1;32m---> 52\u001b[0m         data \u001b[38;5;241m=\u001b[39m [\u001b[38;5;28;43mself\u001b[39;49m\u001b[38;5;241;43m.\u001b[39;49m\u001b[43mdataset\u001b[49m\u001b[43m[\u001b[49m\u001b[43midx\u001b[49m\u001b[43m]\u001b[49m \u001b[38;5;28;01mfor\u001b[39;00m idx \u001b[38;5;129;01min\u001b[39;00m possibly_batched_index]\n\u001b[0;32m     53\u001b[0m \u001b[38;5;28;01melse\u001b[39;00m:\n\u001b[0;32m     54\u001b[0m     data \u001b[38;5;241m=\u001b[39m \u001b[38;5;28mself\u001b[39m\u001b[38;5;241m.\u001b[39mdataset[possibly_batched_index]\n",
      "File \u001b[1;32md:\\OneDrive - BITS PILANI\\Year 3 Sem 1\\FDS Project\\DatasetCustom\\CreateDataset.py:235\u001b[0m, in \u001b[0;36m__getitem__\u001b[1;34m(self, i)\u001b[0m\n\u001b[0;32m    233\u001b[0m     image \u001b[38;5;241m=\u001b[39m \u001b[38;5;28mself\u001b[39m\u001b[38;5;241m.\u001b[39mtransform_image(image)\n\u001b[0;32m    234\u001b[0m \u001b[38;5;28;01melse\u001b[39;00m:\n\u001b[1;32m--> 235\u001b[0m     image \u001b[38;5;241m=\u001b[39m image\u001b[38;5;241m.\u001b[39munsqueeze(\u001b[38;5;241m0\u001b[39m)\n\u001b[0;32m    237\u001b[0m \u001b[38;5;28;01mreturn\u001b[39;00m (image, char_code, label)\n",
      "File \u001b[1;32mc:\\Users\\Sreenikethan I\\.conda\\envs\\fds\\Lib\\site-packages\\torch\\nn\\modules\\module.py:1736\u001b[0m, in \u001b[0;36mModule._wrapped_call_impl\u001b[1;34m(self, *args, **kwargs)\u001b[0m\n\u001b[0;32m   1734\u001b[0m     \u001b[38;5;28;01mreturn\u001b[39;00m \u001b[38;5;28mself\u001b[39m\u001b[38;5;241m.\u001b[39m_compiled_call_impl(\u001b[38;5;241m*\u001b[39margs, \u001b[38;5;241m*\u001b[39m\u001b[38;5;241m*\u001b[39mkwargs)  \u001b[38;5;66;03m# type: ignore[misc]\u001b[39;00m\n\u001b[0;32m   1735\u001b[0m \u001b[38;5;28;01melse\u001b[39;00m:\n\u001b[1;32m-> 1736\u001b[0m     \u001b[38;5;28;01mreturn\u001b[39;00m \u001b[38;5;28;43mself\u001b[39;49m\u001b[38;5;241;43m.\u001b[39;49m\u001b[43m_call_impl\u001b[49m\u001b[43m(\u001b[49m\u001b[38;5;241;43m*\u001b[39;49m\u001b[43margs\u001b[49m\u001b[43m,\u001b[49m\u001b[43m \u001b[49m\u001b[38;5;241;43m*\u001b[39;49m\u001b[38;5;241;43m*\u001b[39;49m\u001b[43mkwargs\u001b[49m\u001b[43m)\u001b[49m\n",
      "File \u001b[1;32mc:\\Users\\Sreenikethan I\\.conda\\envs\\fds\\Lib\\site-packages\\torch\\nn\\modules\\module.py:1747\u001b[0m, in \u001b[0;36mModule._call_impl\u001b[1;34m(self, *args, **kwargs)\u001b[0m\n\u001b[0;32m   1742\u001b[0m \u001b[38;5;66;03m# If we don't have any hooks, we want to skip the rest of the logic in\u001b[39;00m\n\u001b[0;32m   1743\u001b[0m \u001b[38;5;66;03m# this function, and just call forward.\u001b[39;00m\n\u001b[0;32m   1744\u001b[0m \u001b[38;5;28;01mif\u001b[39;00m \u001b[38;5;129;01mnot\u001b[39;00m (\u001b[38;5;28mself\u001b[39m\u001b[38;5;241m.\u001b[39m_backward_hooks \u001b[38;5;129;01mor\u001b[39;00m \u001b[38;5;28mself\u001b[39m\u001b[38;5;241m.\u001b[39m_backward_pre_hooks \u001b[38;5;129;01mor\u001b[39;00m \u001b[38;5;28mself\u001b[39m\u001b[38;5;241m.\u001b[39m_forward_hooks \u001b[38;5;129;01mor\u001b[39;00m \u001b[38;5;28mself\u001b[39m\u001b[38;5;241m.\u001b[39m_forward_pre_hooks\n\u001b[0;32m   1745\u001b[0m         \u001b[38;5;129;01mor\u001b[39;00m _global_backward_pre_hooks \u001b[38;5;129;01mor\u001b[39;00m _global_backward_hooks\n\u001b[0;32m   1746\u001b[0m         \u001b[38;5;129;01mor\u001b[39;00m _global_forward_hooks \u001b[38;5;129;01mor\u001b[39;00m _global_forward_pre_hooks):\n\u001b[1;32m-> 1747\u001b[0m     \u001b[38;5;28;01mreturn\u001b[39;00m \u001b[43mforward_call\u001b[49m\u001b[43m(\u001b[49m\u001b[38;5;241;43m*\u001b[39;49m\u001b[43margs\u001b[49m\u001b[43m,\u001b[49m\u001b[43m \u001b[49m\u001b[38;5;241;43m*\u001b[39;49m\u001b[38;5;241;43m*\u001b[39;49m\u001b[43mkwargs\u001b[49m\u001b[43m)\u001b[49m\n\u001b[0;32m   1749\u001b[0m result \u001b[38;5;241m=\u001b[39m \u001b[38;5;28;01mNone\u001b[39;00m\n\u001b[0;32m   1750\u001b[0m called_always_called_hooks \u001b[38;5;241m=\u001b[39m \u001b[38;5;28mset\u001b[39m()\n",
      "File \u001b[1;32mc:\\Users\\Sreenikethan I\\.conda\\envs\\fds\\Lib\\site-packages\\torchvision\\transforms\\v2\\_container.py:51\u001b[0m, in \u001b[0;36mCompose.forward\u001b[1;34m(self, *inputs)\u001b[0m\n\u001b[0;32m     49\u001b[0m needs_unpacking \u001b[38;5;241m=\u001b[39m \u001b[38;5;28mlen\u001b[39m(inputs) \u001b[38;5;241m>\u001b[39m \u001b[38;5;241m1\u001b[39m\n\u001b[0;32m     50\u001b[0m \u001b[38;5;28;01mfor\u001b[39;00m transform \u001b[38;5;129;01min\u001b[39;00m \u001b[38;5;28mself\u001b[39m\u001b[38;5;241m.\u001b[39mtransforms:\n\u001b[1;32m---> 51\u001b[0m     outputs \u001b[38;5;241m=\u001b[39m \u001b[43mtransform\u001b[49m\u001b[43m(\u001b[49m\u001b[38;5;241;43m*\u001b[39;49m\u001b[43minputs\u001b[49m\u001b[43m)\u001b[49m\n\u001b[0;32m     52\u001b[0m     inputs \u001b[38;5;241m=\u001b[39m outputs \u001b[38;5;28;01mif\u001b[39;00m needs_unpacking \u001b[38;5;28;01melse\u001b[39;00m (outputs,)\n\u001b[0;32m     53\u001b[0m \u001b[38;5;28;01mreturn\u001b[39;00m outputs\n",
      "File \u001b[1;32mc:\\Users\\Sreenikethan I\\.conda\\envs\\fds\\Lib\\site-packages\\torch\\nn\\modules\\module.py:1736\u001b[0m, in \u001b[0;36mModule._wrapped_call_impl\u001b[1;34m(self, *args, **kwargs)\u001b[0m\n\u001b[0;32m   1734\u001b[0m     \u001b[38;5;28;01mreturn\u001b[39;00m \u001b[38;5;28mself\u001b[39m\u001b[38;5;241m.\u001b[39m_compiled_call_impl(\u001b[38;5;241m*\u001b[39margs, \u001b[38;5;241m*\u001b[39m\u001b[38;5;241m*\u001b[39mkwargs)  \u001b[38;5;66;03m# type: ignore[misc]\u001b[39;00m\n\u001b[0;32m   1735\u001b[0m \u001b[38;5;28;01melse\u001b[39;00m:\n\u001b[1;32m-> 1736\u001b[0m     \u001b[38;5;28;01mreturn\u001b[39;00m \u001b[38;5;28;43mself\u001b[39;49m\u001b[38;5;241;43m.\u001b[39;49m\u001b[43m_call_impl\u001b[49m\u001b[43m(\u001b[49m\u001b[38;5;241;43m*\u001b[39;49m\u001b[43margs\u001b[49m\u001b[43m,\u001b[49m\u001b[43m \u001b[49m\u001b[38;5;241;43m*\u001b[39;49m\u001b[38;5;241;43m*\u001b[39;49m\u001b[43mkwargs\u001b[49m\u001b[43m)\u001b[49m\n",
      "File \u001b[1;32mc:\\Users\\Sreenikethan I\\.conda\\envs\\fds\\Lib\\site-packages\\torch\\nn\\modules\\module.py:1747\u001b[0m, in \u001b[0;36mModule._call_impl\u001b[1;34m(self, *args, **kwargs)\u001b[0m\n\u001b[0;32m   1742\u001b[0m \u001b[38;5;66;03m# If we don't have any hooks, we want to skip the rest of the logic in\u001b[39;00m\n\u001b[0;32m   1743\u001b[0m \u001b[38;5;66;03m# this function, and just call forward.\u001b[39;00m\n\u001b[0;32m   1744\u001b[0m \u001b[38;5;28;01mif\u001b[39;00m \u001b[38;5;129;01mnot\u001b[39;00m (\u001b[38;5;28mself\u001b[39m\u001b[38;5;241m.\u001b[39m_backward_hooks \u001b[38;5;129;01mor\u001b[39;00m \u001b[38;5;28mself\u001b[39m\u001b[38;5;241m.\u001b[39m_backward_pre_hooks \u001b[38;5;129;01mor\u001b[39;00m \u001b[38;5;28mself\u001b[39m\u001b[38;5;241m.\u001b[39m_forward_hooks \u001b[38;5;129;01mor\u001b[39;00m \u001b[38;5;28mself\u001b[39m\u001b[38;5;241m.\u001b[39m_forward_pre_hooks\n\u001b[0;32m   1745\u001b[0m         \u001b[38;5;129;01mor\u001b[39;00m _global_backward_pre_hooks \u001b[38;5;129;01mor\u001b[39;00m _global_backward_hooks\n\u001b[0;32m   1746\u001b[0m         \u001b[38;5;129;01mor\u001b[39;00m _global_forward_hooks \u001b[38;5;129;01mor\u001b[39;00m _global_forward_pre_hooks):\n\u001b[1;32m-> 1747\u001b[0m     \u001b[38;5;28;01mreturn\u001b[39;00m \u001b[43mforward_call\u001b[49m\u001b[43m(\u001b[49m\u001b[38;5;241;43m*\u001b[39;49m\u001b[43margs\u001b[49m\u001b[43m,\u001b[49m\u001b[43m \u001b[49m\u001b[38;5;241;43m*\u001b[39;49m\u001b[38;5;241;43m*\u001b[39;49m\u001b[43mkwargs\u001b[49m\u001b[43m)\u001b[49m\n\u001b[0;32m   1749\u001b[0m result \u001b[38;5;241m=\u001b[39m \u001b[38;5;28;01mNone\u001b[39;00m\n\u001b[0;32m   1750\u001b[0m called_always_called_hooks \u001b[38;5;241m=\u001b[39m \u001b[38;5;28mset\u001b[39m()\n",
      "File \u001b[1;32mc:\\Users\\Sreenikethan I\\.conda\\envs\\fds\\Lib\\site-packages\\torchvision\\transforms\\v2\\_transform.py:51\u001b[0m, in \u001b[0;36mTransform.forward\u001b[1;34m(self, *inputs)\u001b[0m\n\u001b[0;32m     45\u001b[0m needs_transform_list \u001b[38;5;241m=\u001b[39m \u001b[38;5;28mself\u001b[39m\u001b[38;5;241m.\u001b[39m_needs_transform_list(flat_inputs)\n\u001b[0;32m     46\u001b[0m params \u001b[38;5;241m=\u001b[39m \u001b[38;5;28mself\u001b[39m\u001b[38;5;241m.\u001b[39m_get_params(\n\u001b[0;32m     47\u001b[0m     [inpt \u001b[38;5;28;01mfor\u001b[39;00m (inpt, needs_transform) \u001b[38;5;129;01min\u001b[39;00m \u001b[38;5;28mzip\u001b[39m(flat_inputs, needs_transform_list) \u001b[38;5;28;01mif\u001b[39;00m needs_transform]\n\u001b[0;32m     48\u001b[0m )\n\u001b[0;32m     50\u001b[0m flat_outputs \u001b[38;5;241m=\u001b[39m [\n\u001b[1;32m---> 51\u001b[0m     \u001b[38;5;28;43mself\u001b[39;49m\u001b[38;5;241;43m.\u001b[39;49m\u001b[43m_transform\u001b[49m\u001b[43m(\u001b[49m\u001b[43minpt\u001b[49m\u001b[43m,\u001b[49m\u001b[43m \u001b[49m\u001b[43mparams\u001b[49m\u001b[43m)\u001b[49m \u001b[38;5;28;01mif\u001b[39;00m needs_transform \u001b[38;5;28;01melse\u001b[39;00m inpt\n\u001b[0;32m     52\u001b[0m     \u001b[38;5;28;01mfor\u001b[39;00m (inpt, needs_transform) \u001b[38;5;129;01min\u001b[39;00m \u001b[38;5;28mzip\u001b[39m(flat_inputs, needs_transform_list)\n\u001b[0;32m     53\u001b[0m ]\n\u001b[0;32m     55\u001b[0m \u001b[38;5;28;01mreturn\u001b[39;00m tree_unflatten(flat_outputs, spec)\n",
      "File \u001b[1;32mc:\\Users\\Sreenikethan I\\.conda\\envs\\fds\\Lib\\site-packages\\torchvision\\transforms\\v2\\_geometry.py:748\u001b[0m, in \u001b[0;36mRandomAffine._transform\u001b[1;34m(self, inpt, params)\u001b[0m\n\u001b[0;32m    746\u001b[0m \u001b[38;5;28;01mdef\u001b[39;00m \u001b[38;5;21m_transform\u001b[39m(\u001b[38;5;28mself\u001b[39m, inpt: Any, params: Dict[\u001b[38;5;28mstr\u001b[39m, Any]) \u001b[38;5;241m-\u001b[39m\u001b[38;5;241m>\u001b[39m Any:\n\u001b[0;32m    747\u001b[0m     fill \u001b[38;5;241m=\u001b[39m _get_fill(\u001b[38;5;28mself\u001b[39m\u001b[38;5;241m.\u001b[39m_fill, \u001b[38;5;28mtype\u001b[39m(inpt))\n\u001b[1;32m--> 748\u001b[0m     \u001b[38;5;28;01mreturn\u001b[39;00m \u001b[38;5;28;43mself\u001b[39;49m\u001b[38;5;241;43m.\u001b[39;49m\u001b[43m_call_kernel\u001b[49m\u001b[43m(\u001b[49m\n\u001b[0;32m    749\u001b[0m \u001b[43m        \u001b[49m\u001b[43mF\u001b[49m\u001b[38;5;241;43m.\u001b[39;49m\u001b[43maffine\u001b[49m\u001b[43m,\u001b[49m\n\u001b[0;32m    750\u001b[0m \u001b[43m        \u001b[49m\u001b[43minpt\u001b[49m\u001b[43m,\u001b[49m\n\u001b[0;32m    751\u001b[0m \u001b[43m        \u001b[49m\u001b[38;5;241;43m*\u001b[39;49m\u001b[38;5;241;43m*\u001b[39;49m\u001b[43mparams\u001b[49m\u001b[43m,\u001b[49m\n\u001b[0;32m    752\u001b[0m \u001b[43m        \u001b[49m\u001b[43minterpolation\u001b[49m\u001b[38;5;241;43m=\u001b[39;49m\u001b[38;5;28;43mself\u001b[39;49m\u001b[38;5;241;43m.\u001b[39;49m\u001b[43minterpolation\u001b[49m\u001b[43m,\u001b[49m\n\u001b[0;32m    753\u001b[0m \u001b[43m        \u001b[49m\u001b[43mfill\u001b[49m\u001b[38;5;241;43m=\u001b[39;49m\u001b[43mfill\u001b[49m\u001b[43m,\u001b[49m\n\u001b[0;32m    754\u001b[0m \u001b[43m        \u001b[49m\u001b[43mcenter\u001b[49m\u001b[38;5;241;43m=\u001b[39;49m\u001b[38;5;28;43mself\u001b[39;49m\u001b[38;5;241;43m.\u001b[39;49m\u001b[43mcenter\u001b[49m\u001b[43m,\u001b[49m\n\u001b[0;32m    755\u001b[0m \u001b[43m    \u001b[49m\u001b[43m)\u001b[49m\n",
      "File \u001b[1;32mc:\\Users\\Sreenikethan I\\.conda\\envs\\fds\\Lib\\site-packages\\torchvision\\transforms\\v2\\_transform.py:35\u001b[0m, in \u001b[0;36mTransform._call_kernel\u001b[1;34m(self, functional, inpt, *args, **kwargs)\u001b[0m\n\u001b[0;32m     33\u001b[0m \u001b[38;5;28;01mdef\u001b[39;00m \u001b[38;5;21m_call_kernel\u001b[39m(\u001b[38;5;28mself\u001b[39m, functional: Callable, inpt: Any, \u001b[38;5;241m*\u001b[39margs: Any, \u001b[38;5;241m*\u001b[39m\u001b[38;5;241m*\u001b[39mkwargs: Any) \u001b[38;5;241m-\u001b[39m\u001b[38;5;241m>\u001b[39m Any:\n\u001b[0;32m     34\u001b[0m     kernel \u001b[38;5;241m=\u001b[39m _get_kernel(functional, \u001b[38;5;28mtype\u001b[39m(inpt), allow_passthrough\u001b[38;5;241m=\u001b[39m\u001b[38;5;28;01mTrue\u001b[39;00m)\n\u001b[1;32m---> 35\u001b[0m     \u001b[38;5;28;01mreturn\u001b[39;00m \u001b[43mkernel\u001b[49m\u001b[43m(\u001b[49m\u001b[43minpt\u001b[49m\u001b[43m,\u001b[49m\u001b[43m \u001b[49m\u001b[38;5;241;43m*\u001b[39;49m\u001b[43margs\u001b[49m\u001b[43m,\u001b[49m\u001b[43m \u001b[49m\u001b[38;5;241;43m*\u001b[39;49m\u001b[38;5;241;43m*\u001b[39;49m\u001b[43mkwargs\u001b[49m\u001b[43m)\u001b[49m\n",
      "File \u001b[1;32mc:\\Users\\Sreenikethan I\\.conda\\envs\\fds\\Lib\\site-packages\\torchvision\\transforms\\v2\\functional\\_utils.py:31\u001b[0m, in \u001b[0;36m_kernel_tv_tensor_wrapper.<locals>.wrapper\u001b[1;34m(inpt, *args, **kwargs)\u001b[0m\n\u001b[0;32m     20\u001b[0m \u001b[38;5;129m@functools\u001b[39m\u001b[38;5;241m.\u001b[39mwraps(kernel)\n\u001b[0;32m     21\u001b[0m \u001b[38;5;28;01mdef\u001b[39;00m \u001b[38;5;21mwrapper\u001b[39m(inpt, \u001b[38;5;241m*\u001b[39margs, \u001b[38;5;241m*\u001b[39m\u001b[38;5;241m*\u001b[39mkwargs):\n\u001b[0;32m     22\u001b[0m     \u001b[38;5;66;03m# If you're wondering whether we could / should get rid of this wrapper,\u001b[39;00m\n\u001b[1;32m   (...)\u001b[0m\n\u001b[0;32m     29\u001b[0m     \u001b[38;5;66;03m# lost after the first operation due to our own __torch_function__\u001b[39;00m\n\u001b[0;32m     30\u001b[0m     \u001b[38;5;66;03m# logic.\u001b[39;00m\n\u001b[1;32m---> 31\u001b[0m     output \u001b[38;5;241m=\u001b[39m \u001b[43mkernel\u001b[49m\u001b[43m(\u001b[49m\u001b[43minpt\u001b[49m\u001b[38;5;241;43m.\u001b[39;49m\u001b[43mas_subclass\u001b[49m\u001b[43m(\u001b[49m\u001b[43mtorch\u001b[49m\u001b[38;5;241;43m.\u001b[39;49m\u001b[43mTensor\u001b[49m\u001b[43m)\u001b[49m\u001b[43m,\u001b[49m\u001b[43m \u001b[49m\u001b[38;5;241;43m*\u001b[39;49m\u001b[43margs\u001b[49m\u001b[43m,\u001b[49m\u001b[43m \u001b[49m\u001b[38;5;241;43m*\u001b[39;49m\u001b[38;5;241;43m*\u001b[39;49m\u001b[43mkwargs\u001b[49m\u001b[43m)\u001b[49m\n\u001b[0;32m     32\u001b[0m     \u001b[38;5;28;01mreturn\u001b[39;00m tv_tensors\u001b[38;5;241m.\u001b[39mwrap(output, like\u001b[38;5;241m=\u001b[39minpt)\n",
      "File \u001b[1;32mc:\\Users\\Sreenikethan I\\.conda\\envs\\fds\\Lib\\site-packages\\torchvision\\transforms\\v2\\functional\\_geometry.py:733\u001b[0m, in \u001b[0;36maffine_image\u001b[1;34m(image, angle, translate, scale, shear, interpolation, fill, center)\u001b[0m\n\u001b[0;32m    731\u001b[0m theta \u001b[38;5;241m=\u001b[39m torch\u001b[38;5;241m.\u001b[39mtensor(matrix, dtype\u001b[38;5;241m=\u001b[39mdtype, device\u001b[38;5;241m=\u001b[39mimage\u001b[38;5;241m.\u001b[39mdevice)\u001b[38;5;241m.\u001b[39mreshape(\u001b[38;5;241m1\u001b[39m, \u001b[38;5;241m2\u001b[39m, \u001b[38;5;241m3\u001b[39m)\n\u001b[0;32m    732\u001b[0m grid \u001b[38;5;241m=\u001b[39m _affine_grid(theta, w\u001b[38;5;241m=\u001b[39mwidth, h\u001b[38;5;241m=\u001b[39mheight, ow\u001b[38;5;241m=\u001b[39mwidth, oh\u001b[38;5;241m=\u001b[39mheight)\n\u001b[1;32m--> 733\u001b[0m \u001b[38;5;28;01mreturn\u001b[39;00m \u001b[43m_apply_grid_transform\u001b[49m\u001b[43m(\u001b[49m\u001b[43mimage\u001b[49m\u001b[43m,\u001b[49m\u001b[43m \u001b[49m\u001b[43mgrid\u001b[49m\u001b[43m,\u001b[49m\u001b[43m \u001b[49m\u001b[43minterpolation\u001b[49m\u001b[38;5;241;43m.\u001b[39;49m\u001b[43mvalue\u001b[49m\u001b[43m,\u001b[49m\u001b[43m \u001b[49m\u001b[43mfill\u001b[49m\u001b[38;5;241;43m=\u001b[39;49m\u001b[43mfill\u001b[49m\u001b[43m)\u001b[49m\n",
      "File \u001b[1;32mc:\\Users\\Sreenikethan I\\.conda\\envs\\fds\\Lib\\site-packages\\torchvision\\transforms\\v2\\functional\\_geometry.py:617\u001b[0m, in \u001b[0;36m_apply_grid_transform\u001b[1;34m(img, grid, mode, fill)\u001b[0m\n\u001b[0;32m    615\u001b[0m \u001b[38;5;66;03m# Append a dummy mask for customized fill colors, should be faster than grid_sample() twice\u001b[39;00m\n\u001b[0;32m    616\u001b[0m \u001b[38;5;28;01mif\u001b[39;00m fill \u001b[38;5;129;01mis\u001b[39;00m \u001b[38;5;129;01mnot\u001b[39;00m \u001b[38;5;28;01mNone\u001b[39;00m:\n\u001b[1;32m--> 617\u001b[0m     mask \u001b[38;5;241m=\u001b[39m \u001b[43mtorch\u001b[49m\u001b[38;5;241;43m.\u001b[39;49m\u001b[43mones\u001b[49m\u001b[43m(\u001b[49m\n\u001b[0;32m    618\u001b[0m \u001b[43m        \u001b[49m\u001b[43m(\u001b[49m\u001b[43msquashed_batch_size\u001b[49m\u001b[43m,\u001b[49m\u001b[43m \u001b[49m\u001b[38;5;241;43m1\u001b[39;49m\u001b[43m,\u001b[49m\u001b[43m \u001b[49m\u001b[43minput_height\u001b[49m\u001b[43m,\u001b[49m\u001b[43m \u001b[49m\u001b[43minput_width\u001b[49m\u001b[43m)\u001b[49m\u001b[43m,\u001b[49m\u001b[43m \u001b[49m\u001b[43mdtype\u001b[49m\u001b[38;5;241;43m=\u001b[39;49m\u001b[43mfloat_img\u001b[49m\u001b[38;5;241;43m.\u001b[39;49m\u001b[43mdtype\u001b[49m\u001b[43m,\u001b[49m\u001b[43m \u001b[49m\u001b[43mdevice\u001b[49m\u001b[38;5;241;43m=\u001b[39;49m\u001b[43mfloat_img\u001b[49m\u001b[38;5;241;43m.\u001b[39;49m\u001b[43mdevice\u001b[49m\n\u001b[0;32m    619\u001b[0m \u001b[43m    \u001b[49m\u001b[43m)\u001b[49m\n\u001b[0;32m    620\u001b[0m     float_img \u001b[38;5;241m=\u001b[39m torch\u001b[38;5;241m.\u001b[39mcat((float_img, mask), dim\u001b[38;5;241m=\u001b[39m\u001b[38;5;241m1\u001b[39m)\n\u001b[0;32m    622\u001b[0m float_img \u001b[38;5;241m=\u001b[39m grid_sample(float_img, grid, mode\u001b[38;5;241m=\u001b[39mmode, padding_mode\u001b[38;5;241m=\u001b[39m\u001b[38;5;124m\"\u001b[39m\u001b[38;5;124mzeros\u001b[39m\u001b[38;5;124m\"\u001b[39m, align_corners\u001b[38;5;241m=\u001b[39m\u001b[38;5;28;01mFalse\u001b[39;00m)\n",
      "\u001b[1;31mKeyboardInterrupt\u001b[0m: "
     ]
    }
   ],
   "source": [
    "# test_dataset = FontDataset(characters, transform_image=transform_image)  # Use the same transform as for training\n",
    "# test_loader = DataLoader(test_dataset, batch_size=32, shuffle=False)\n",
    "test_dataset = train_dataset\n",
    "test_loader = train_loader\n",
    "\n",
    "print(\"Testing against same dataset:\")\n",
    "for model_eval_path in glob(\"D:\\\\OneDrive - BITS PILANI\\\\Year 3 Sem 1\\\\FDS Project\\\\Models\\\\*complete*.pth\")[::-1]:\n",
    "    t_start = perf_counter()\n",
    "    model_eval = FontIdentificationModel(num_fonts=len(test_dataset.label_mapping), largest_char_code=max(test_dataset.codes), char_code_dim=128).to(device)\n",
    "    model_eval.load_state_dict(torch.load(model_eval_path, weights_only=True))\n",
    "    model_eval.eval() # Set the model to evaluation mode\n",
    "    correct = 0\n",
    "    total = 0\n",
    "\n",
    "    # Reverse the label mapping to decode predictions\n",
    "    index_to_label = {i: label for label, i in test_dataset.label_mapping.items()}\n",
    "\n",
    "    with torch.no_grad():\n",
    "        for i, (images, char_codes, labels) in enumerate(test_loader):\n",
    "            images, char_codes, labels = images.to(device), char_codes.to(device), labels.to(device)\n",
    "\n",
    "            # Forward pass\n",
    "            outputs = model_eval(images, char_codes)\n",
    "\n",
    "            # Get predictions\n",
    "            _, predicted = torch.max(outputs, dim=1)\n",
    "\n",
    "            # Update counts\n",
    "            total += labels.size(0)\n",
    "            correct += (predicted == labels).sum().item()\n",
    "\n",
    "            # if i % 50 == 0:\n",
    "            #     print(f\"    Tested {i+1} batches, accuracy so far: {100*correct / total:.2f}%\")\n",
    "\n",
    "    # Compute accuracy\n",
    "    accuracy = correct / total\n",
    "    print(f\"{basename(model_eval_path)} - Total accuracy: {accuracy * 100:.2f}% ({perf_counter() - t_start:.2f} sec)\")\n"
   ]
  },
  {
   "cell_type": "markdown",
   "metadata": {},
   "source": [
    "## Model testing with input"
   ]
  },
  {
   "cell_type": "code",
   "execution_count": 27,
   "metadata": {},
   "outputs": [
    {
     "data": {
      "image/jpeg": "[encoded data removed]",
      "image/png": "[encoded data removed]",
      "text/plain": [
       "<PIL.Image.Image image mode=L size=64x64>"
      ]
     },
     "metadata": {},
     "output_type": "display_data"
    },
    {
     "data": {
      "text/plain": [
       "[(80, 62.40455508232117, 'Harrington'),\n",
       " (105, 14.941811561584473, 'Maiandra GD'),\n",
       " (53, 7.448449730873108, 'Eras Medium ITC'),\n",
       " (24, 4.391280189156532, 'Candara'),\n",
       " (44, 2.47245691716671, 'Droid Sans Mono Slashed'),\n",
       " (6, 1.3729977421462536, 'Baskerville Old Face'),\n",
       " (55, 1.2391218915581703, 'Footlight MT Light'),\n",
       " (57, 0.7032192312180996, 'Franklin Gothic Book'),\n",
       " (149, 0.6138642784208059, 'Sitka'),\n",
       " (41, 0.5812343675643206, 'DejaVu Sans')]"
      ]
     },
     "metadata": {},
     "output_type": "display_data"
    },
    {
     "data": {
      "text/html": [
       "<style>td {text-align: left;} th {text-align: center; font-weight: bold;}</style>\n",
       "<table><tr><th>Font name</th><th>Sample text</th></tr>\n",
       "<tr><td>Harrington</td><td><img src=\"data:image/png;base64,iVBORw0KGgoAAAANSUhEUgAAACsAAAArCAYAAADhXXHAAAACRUlEQVR4nO2ZPWsUQRyHnzkxiQEx50shWokSRXwjRAsrGzu/hIiKiKAkYhPsLf0C2gl+g1SKlTYKWoiVNkJAI3pgjCaXx2L3YF3ncnub23jCPnDc7e3Mb57537DL3gR6oDaABrAWQljr1b4f1C1AKJrd6BF2BFgFVoC2f7OmHi8pejLN7ZbdVif7Db2eSsWYKyOayZ7pkqs6Wzb0ZiTszkZEM9lzkeyZjQSORwKbA5LdHckej7Vdd81miC1+yyv+wWrB8QrLDgW1bFX837LqLvWK+kh9rS4CrUjfJ+pFdax6zRzqiHpXXVrnQh1jUX2gXlBHS4w7EcmMFiCkHZrAPDAdywN+AkUq+B14ATxPX++BT8Dn9PwoMAEcAI4CZ4FzwP5czrYQwnJsZkF9mpvZW/WWelDdqo5FZj9lcrt8pi73+Wv0Il5Z9Xxa1Q4PgcshhJXMhMaAH7m+zRDC1/T8CHAKOA1MAofS6jWB7Wn7FvAtfV8A3gEvgVfAm6KVvZeZ0ZKRW12Xyk7EZt8v9rFmG8CezPEvkvU5lDSAD5njHcB9da86qoZ/o9UFdZ/J5SfPgrozbTMcyyCE8BE4Azwmucy00s9TIYQvgxDaVIamsoMYcLOoZauilq2KWrYqatmqqGWropatilq2KmrZqigqG2s3qIfJwtlFZa9GvrtUWGd9rg0sW52NPCN1uL0RS+ObH5rsDt3oN+yY3beVOqEnSopO98huq4ezfXquO7WR3/0z2Rns7Dq2y8jGsk3+VOnsaLbz4/4GLQptTNTZTwYAAAAASUVORK5CYII=\"/></td></tr>\n",
       "<tr><td>Maiandra GD</td><td><img src=\"data:image/png;base64,iVBORw0KGgoAAAANSUhEUgAAADAAAAAqCAYAAAD1T9h6AAACZUlEQVR4nNWZvWpVQRSF1yTGn8QfRERjI4IEG21sBC18BPEBfBcLKwtJIz6FpU8giEIa0UJEiYjgDxKMxqjEfDYWEve63BXm3std5ZqT2eubPXPOyblSIWAJuAWsABvAe2AZ2FNd31PAVeAe8ALYBF4BN5IJloFtag0/UR58AXhq6m4Bp6q/mym815KaqXO5W+Idaq1tSPpshmclXaoGKoD7A+ocC3OlGlT7eGX+B9Baeytp1UyynWeK9HDAWLkrqg5I0orxv0dxcj2X9NuMbVamA3hp/JECtNZ+SXpjhiOAVeNvhJl2o3dJbQfwIZmksz4mtR3AJ+OP+gxI0prxI4B145f7sLO+Gb9cvBRgHB1wixQdYjfJOAB+GD8C+BlO3lPuYTk1AO5BVtZ2AG4SB9ZTVF5rLQJwbRwHQFTXvTYLqFZiUvraWjtcDZQdAFxnJiW3pe0Wsp2ZkGKAqelAKWDe/G96bkQB/619u6jr3lDtSs+NKN8wqmrbG8q0ANgt7Qb298myK1UA9qaSAszGcXJ16cC+8PqeqgDsF0EXaMH4k+rAXndxCjCOs1EBuB1hAeaNbyfqqApgzr3epB1wYD3lbuFlphSgfCPsLAdwqDIdwEHjH4nj5HIHtqyddqD8QtxZB5La6SE+GcfJ5e50JyrTAbhVOBPHyeUAytopwFIcJ1dU2wG4g3QWGPVBds+ai5XpALaM3yRdSRN10nng6E7TAbgf2yTpep88Vu7L+KykaztNB/BkQIFRP8weGX9L0uJQMwAzwF1g7e+Pzc+AO8CFbjF97UXgAfAFWAceAzeB09X1fwCwYSlH0uv2MgAAAABJRU5ErkJggg==\"/></td></tr>\n",
       "<tr><td>Eras Medium ITC</td><td><img src=\"data:image/png;base64,iVBORw0KGgoAAAANSUhEUgAAACwAAAAoCAYAAACFFRgXAAABoUlEQVR4nO2YzU7DMBCEd+mP+JGq8jYcOPBgnLj1wXgeSoGWQMhwSBHG3mmT2CZN1ZGqyiO7+3W8jtyKGAJwD6AC8AWg3L5XAO6s+SkE4MarWW7HD+68MVmvzsvVaw7YPTWf3cHZjsWWXiKhdomxLJtMGhE/Z8IT4j+5AwbMWiVnwpfEX7oDBjwlfs6Eo4Ct7VmrahVDtEdXxG906CzgnO0gwhNeuYOjAT43vD6AC1UtXIMBXxhezgMnYgOvfKMNcB8JDw44qNmmh/toicbAg0v4UICDXT30p0RQk11yLOAFgEUUUnu9+UabhPvQ2jeGDwxgLLxV/ltBS1hgLN1bVX1My/MrAIWE9/CNP89qCXZreo+FYgKgYv9oKHzDAp6Rzw2+bUKxXY0Czpaw2FcBs+Yp4Y46JWwuTigG3DnhQlURhbRbrCU6J5yzHUQytETOAyciMid+6RuHkvA18TsD5zxwIjzhT99oChwsTKzkCQcLE+togDu3RG7gOfEHl3BQ988vDgATqf9q3Ui9HSOpL9YfiQF9zaR+1v+0wHTLEQB/A6Mml7qCQACVAAAAAElFTkSuQmCC\"/></td></tr>\n",
       "<tr><td>Candara</td><td><img src=\"data:image/png;base64,iVBORw0KGgoAAAANSUhEUgAAACcAAAAmCAYAAABH/4KQAAABW0lEQVR4nM2VW04DMQxFnSmlBT66K7bEStgG6+iCpuXRgvmsKh1rYsfR5H5a1vXxzSQjAlLVN2UdqN8jVZ3B9516J8PjZNQ/W+EMD5xnwZ2hpqWUnzDSTV9Qm6nRk1xGapaPC46So40jIjiaZ8J9V5pGRN64uAVHzVnJNcP1TI4uVXNyGTdVJCG5K9R+wzj3oiUv1LgGHHkPA0cgNG8YOFdy1JwFp7XeFly1QUB/lTUXHBoERD40Tx4cBq+qiiYJak6up3DeKHAoC86q91LxQFD9WBIkIh+tcNSMBgGRD3J44LKOunpxayA9McMkR3CbMM7yTHxv14Aj72Y462/iFS3pgiODbRhn2dsFt6s1CKh6cQvuEWpZcARC81ZJjkD21OhJDrcLiJKjMFxwWReiGe4JalnJNR8rNWfBUUrP1OhJblLVjL8ELflCjZ7kRIxvw6kuyYnkHC3BYXL/3L59DvCODicAAAAASUVORK5CYII=\"/></td></tr>\n",
       "<tr><td>Droid Sans Mono Slashed</td><td><img src=\"data:image/png;base64,iVBORw0KGgoAAAANSUhEUgAAACQAAAArCAYAAAAQVipNAAAAg0lEQVR4nO3XrQ7CMBhG4bdkcjgctzjBVWOQ4L+ZkVSMHEgJQZzHNenPSVWbdKpqrn2XDKqq5cXecz/vMHrQtxlEDCIGEYOIQcQgYhAxiLR+sL3e7j9uOLbWHs/B392QQWR6c941yW3wrFOS80cr/AbtMIgYRAwiBhGDiEHEIGIQMYisZCBw1CLtSRQAAAAASUVORK5CYII=\"/></td></tr>\n",
       "<tr><td>Baskerville Old Face</td><td><img src=\"data:image/png;base64,iVBORw0KGgoAAAANSUhEUgAAADEAAAAoCAYAAABXRRJPAAAB10lEQVR4nO2ZvU4UYRiF3w+mkA60WEkgUeMmWy7ZghLCT9SYUFta6DXYeQVrotfgNQCxwYraG5CFhgQSkEJ2pZjNY7FbTDPnnW92ikHntCfnnO9JtpjNa2ZmwGeqU8eEgLcVbr3JFifAKrAHfAXSiKJL4COwDjxSANOtOWAZ2AK+AKOIrd9AH9gEHgNBDe0AwwKlx0Ue7kB1gLMCWwPgeWz5e6f0CmjNApDZWgfGYisF1soUJ8CFKO5XAZDZOxJb+yo7l2eEEFIzOxLZg7IPztGh8L6pYC7EVGfCGzjZWJ0I71QFPYgb4V072Vipvl8q6EH8Ed7IycZqKLw7FfQg0jwjhDB2srHK3TIzueVB3As1EHVRA1EXNRB1UQNRFyVlgwBVPmQWlYYIIeT/NSwhoGtmP8pk/4mfUwNRFzUQdVEDURc1EHXRfwGR+1kCzFf8FvUJJLc8iAXhPXCysVJ9csuDWBTeQycbK9UntzyIJ8J76mRj9azsVi4EkJjZtsi+cB4Vq5fCe1WqEXjnHFkumPFKlNnqok9sKdCLLd2l2LnrO7A4I0Ab+FlgawC0VVECrACviT88ngMfgB6wVODRAWgxOR5+Am4jtm6ZHB43ph0hW3yvT8B/AesJDvBs+SNNAAAAAElFTkSuQmCC\"/></td></tr>\n",
       "<tr><td>Footlight MT Light</td><td><img src=\"data:image/png;base64,iVBORw0KGgoAAAANSUhEUgAAACkAAAAlCAYAAADfosCNAAABaUlEQVR4nO2YPUoDQRSA3xNcxJ8E0gki2giKmEpQUth4BM8QBAuxFKwtPYCF2Ih4BAs7T6AewEoExUZikYifTUCUN7Ozu2M0MF/5dvbLx5BieSIiAqxRnhnJAXgu6d7+KaoBq8AR0PO8+AYcACvAZF5g3z0GLAA7wGNO2BmwATQA9Un3PJKtkDCPexF4d7hPi4imHKInYKRKZN9/5Yhct86bP6iqryJybzy6U9WPqpEicuuY31hD3628BM7KYHm6qtqxDvsiu8asVyqporvy/2sQpMhYpMhYpMhYpMhYOD+FgGsRaQ2wpaOq5qffUNxk0cgLjYCI7P9m5J+QImORImORImORImORImMx9JFZ4KwMlmfUddgX2TBms4Vzwt0ZMG4dNiOBmojMGY+awHT5ti+PY74cbAB2PfvJc+9yM9+95NlPHue9PAE0gUP8m16AS2ATqAeGZcA80AYectwnQAuof7sM/vnO/BO3YZsvffkeiQAAAABJRU5ErkJggg==\"/></td></tr>\n",
       "<tr><td>Franklin Gothic Book</td><td><img src=\"data:image/png;base64,iVBORw0KGgoAAAANSUhEUgAAACcAAAAoCAYAAAB99ePgAAAAdElEQVR4nO3WsQ3DMAwFUcZw9o138bY28DNA2OhgBSru1YR4YKWqRpI7v/ZudlSST/P22c1uTyycxTjKOMo4yjjKOMo4yjhq6biRD+SVZFpIZ+nLGUeNxL1fD6iqY0bc3xlHGUcZRxlHGUcZRxlHGUctHfcFQf4y23CVcxAAAAAASUVORK5CYII=\"/></td></tr>\n",
       "<tr><td>Sitka</td><td><img src=\"data:image/png;base64,iVBORw0KGgoAAAANSUhEUgAAAC4AAAAmCAYAAAC76qlaAAABc0lEQVR4nO3YvUtXURzH8XPFjMrJnIoknFpqbbChv8HcRYL+gEBwjQZxk1ZbXdwU0v4CQXQXmsVFBwkq/A2+GnxA8D4c7u9yfDrv8dzz/Xzf93CW8w3hDAzrj53QAL732ePdedbA5dymxk1eHe2p46Q8lTF8xiZOIk6gh5/4iJFGax5hCiv4E3nKu/iKN1G/hmf4ViM8GyNbk/8Y0zio6PEDr9vmB/wuCd1oHXg1f75CfLyubqDu4xm9krXjdpqlVGWV9b0gRvxGksVTk8VTk8VTk8VTc2vFB1vWjeJ9Rw4v2xQVTRtwGEJ42ia8T14URbFX9fHWXpV7J75adEQI4UtK8Wsni6cmi6cmi6cmi6cmi6fmTosPlaw96NChLD+EEB62SsNzLFZMUv/iE4bb2mIIH7Bf0WM9esyMV5jDlrjB/j+sYQaNrySnM/FJLOMoIh9+YQFvcfXFhieRQVVsR4gv9dlj4jzr8h1vfH82EFPfWY//B+3W8j6ElCQAAAAASUVORK5CYII=\"/></td></tr>\n",
       "<tr><td>DejaVu Sans</td><td><img src=\"data:image/png;base64,iVBORw0KGgoAAAANSUhEUgAAAC0AAAAsCAYAAADxRjE/AAAAe0lEQVR4nO3QwQnDUAwEUSW4DPeQBlJ00old0aaB78PHaIjxvPOCBlUNJFkzto32ZyX5HNx7j/bPjohuRlOMphhNMZpiNMVoitEUoynL5P6VJC0lEy75aaMpt4jeHw2q6tsZ/ReMphhNMZpiNMVoitEUoylGU4ymXDL6BxQuO/4PS/7gAAAAAElFTkSuQmCC\"/></td></tr>\n",
       "</table>"
      ],
      "text/plain": [
       "<IPython.core.display.HTML object>"
      ]
     },
     "metadata": {},
     "output_type": "display_data"
    },
    {
     "data": {
      "image/jpeg": "[encoded data removed]",
      "image/png": "[encoded data removed]",
      "text/plain": [
       "<PIL.Image.Image image mode=L size=64x64>"
      ]
     },
     "metadata": {},
     "output_type": "display_data"
    },
    {
     "data": {
      "text/plain": [
       "'L'"
      ]
     },
     "metadata": {},
     "output_type": "display_data"
    },
    {
     "data": {
      "text/plain": [
       "'Impact'"
      ]
     },
     "metadata": {},
     "output_type": "display_data"
    },
    {
     "data": {
      "text/plain": [
       "[(82, 38.20342719554901, 'Impact'),\n",
       " (147, 34.39012169837952, 'Showcard Gothic'),\n",
       " (72, 16.975513100624084, 'Gill Sans MT Ext Condensed Bold'),\n",
       " (159, 6.331228464841843, 'Tw Cen MT Condensed Extra Bold'),\n",
       " (78, 3.507467359304428, 'Haettenschweiler'),\n",
       " (59, 0.3436506958678365, 'Franklin Gothic Demi Cond'),\n",
       " (60, 0.08230370003730059, 'Franklin Gothic Heavy'),\n",
       " (74, 0.04466941754799336, 'Gill Sans Ultra Bold Condensed'),\n",
       " (158, 0.03551744157448411, 'Tw Cen MT Condensed'),\n",
       " (73, 0.02227490476798266, 'Gill Sans Ultra Bold')]"
      ]
     },
     "metadata": {},
     "output_type": "display_data"
    },
    {
     "data": {
      "text/html": [
       "<style>td {text-align: left;} th {text-align: center; font-weight: bold;}</style>\n",
       "<table><tr><th>Font name</th><th>Sample text</th></tr>\n",
       "<tr><td>Impact</td><td><img src=\"data:image/png;base64,iVBORw0KGgoAAAANSUhEUgAAABcAAAAvCAYAAAAIA1FgAAAASUlEQVR4nO3QsQkAIAwAwSBu5Bzu5XDu9DbWitgo/LdJrkjEDGic1WNT2i3cJC4uLi4uLi4uLi4u/jieL24LwGJe/32LuPgj+ACrbzf9PjrQnwAAAABJRU5ErkJggg==\"/></td></tr>\n",
       "<tr><td>Showcard Gothic</td><td><img src=\"data:image/png;base64,iVBORw0KGgoAAAANSUhEUgAAACAAAAAtCAYAAADP5GkqAAABIElEQVR4nO3WsUrDUBTG8f9XxEXpIKLg4upb+Gx9GN9Eh+IiODuKm1atba5aj0sGiUHuvTnmEs0HpXS45JfvnJACYGbn5psZkZnU3/exByLzUhqwLA1IbuDBGZDcgDdgeDuwcAaMOzCOIA0gKQCV08UrSZskQJ1HJ0D0/H8LEF1/E7BwAmQ38FQaUHwExRt4dgIMt4Gkgz8kuwGvEWQ3sP4rgOwRrJwAw21g3IHiO+D1j2i4I/jnSyjpFfjoePEg6T0LUKdrC0l3D7DV+B2AnQ6ApZlNgG1gF5gCe/VnHzgADoFj4AQ409fTZnYLHHUApObUewQpCcC8CQg9Ai4lhZKAC/j+FPQJuGoDeL0PYnLdBuirAQNu2gBvPQHuJFUAn9JytRnyskZfAAAAAElFTkSuQmCC\"/></td></tr>\n",
       "<tr><td>Gill Sans MT Ext Condensed Bold</td><td><img src=\"data:image/png;base64,iVBORw0KGgoAAAANSUhEUgAAAA0AAAAwCAYAAADKD/APAAAAOklEQVR4nGNgYGBg+P//f8p/3ECAAQ0woQsQA0Y1jWoa1TSqaVTTqKZRTaOaaKnpPVLr5QJNbRpqmgCx1Ctpp88qfgAAAABJRU5ErkJggg==\"/></td></tr>\n",
       "<tr><td>Tw Cen MT Condensed Extra Bold</td><td><img src=\"data:image/png;base64,iVBORw0KGgoAAAANSUhEUgAAABYAAAAnCAYAAAALkrgzAAAAQ0lEQVR4nO3WsQ0AIAwDwYgJKNl/IjZhBKcPEpZC+187VyeiJGnLN+tdbbhBN2BgYGBgYGBgYOA2fB4v7vqBbcDAdwnikkLzBB5QLwAAAABJRU5ErkJggg==\"/></td></tr>\n",
       "<tr><td>Haettenschweiler</td><td><img src=\"data:image/png;base64,iVBORw0KGgoAAAANSUhEUgAAABMAAAAqCAYAAABRJWCpAAAARUlEQVR4nO3WMQ0AIAwF0QMbGMMErvFRBgQ0hAGGu7l5yd8KQETMyOsk1ezgJDExMTExMTExMbEHWIH9IAPt0hr/zvwXW6bIK9Gc8EJIAAAAAElFTkSuQmCC\"/></td></tr>\n",
       "<tr><td>Franklin Gothic Demi Cond</td><td><img src=\"data:image/png;base64,iVBORw0KGgoAAAANSUhEUgAAABoAAAAoCAYAAADg+OpoAAAASElEQVR4nO3QsQkAIAxE0dOpsph7uJVjnW06ISCI/N9dER5EStkOn5sq1CtHQEBAQEBAQEBAQEBAH0ItD9shaV1wxn+vA3of2uzzK2E/2euhAAAAAElFTkSuQmCC\"/></td></tr>\n",
       "<tr><td>Franklin Gothic Heavy</td><td><img src=\"data:image/png;base64,iVBORw0KGgoAAAANSUhEUgAAACAAAAAoCAYAAACfKfiZAAAASklEQVR4nO3QsQ2AQBADwROiK9ojoS/6MumnLwcks7lPo5tZSnJnr3fKjvYAAAAAAAAAAAAAAAAAAEDbWe6vJCn2z+8fAAAAAPgAALg4J1NCz/wAAAAASUVORK5CYII=\"/></td></tr>\n",
       "<tr><td>Gill Sans Ultra Bold Condensed</td><td><img src=\"data:image/png;base64,iVBORw0KGgoAAAANSUhEUgAAAB0AAAAtCAYAAABS6WCiAAAATElEQVR4nO3QMQ4AEBBE0SGu5j7urxgNjWiIaPxfTbN5yUo928lnFW0Wdw9uBAoKCgoKCgoKCgoKCgo6FcawnSTVB2b+572goKCgyxqeSD7TYvINRgAAAABJRU5ErkJggg==\"/></td></tr>\n",
       "<tr><td>Tw Cen MT Condensed</td><td><img src=\"data:image/png;base64,iVBORw0KGgoAAAANSUhEUgAAABMAAAAlCAYAAACgc9J8AAAAQElEQVR4nGNgQAP/////8x8T8KCrwwaYiFFELBg1bNSwUcNGDRs1bNSwUcNGDRs1jG6GfcbSAEQGLQPmMvobBgBiKTeTNZ1u4AAAAABJRU5ErkJggg==\"/></td></tr>\n",
       "<tr><td>Gill Sans Ultra Bold</td><td><img src=\"data:image/png;base64,iVBORw0KGgoAAAANSUhEUgAAACoAAAAtCAYAAADYxvnjAAAAZ0lEQVR4nO3QwQnAIBAFURHLSJv2lZ4s5HvfYzIIwrwC/g7bWpHkDeupN77oxMgJhtIMpRlKM5RmKM1QmqE0Q2mG0gylGUozlGYozVCaoTRDaePAjZXk78a85qOG0gylGUozlHZN6AbZHlcqhhQSkQAAAABJRU5ErkJggg==\"/></td></tr>\n",
       "</table>"
      ],
      "text/plain": [
       "<IPython.core.display.HTML object>"
      ]
     },
     "metadata": {},
     "output_type": "display_data"
    }
   ],
   "source": [
    "TEST_PATH_IMAGE = \"H.jpg\"\n",
    "TEST_CHARCODE = ord(\"H\")\n",
    "device = torch.device('cuda')\n",
    "\n",
    "from IPython.display import HTML\n",
    "test_dataset = train_dataset\n",
    "test_loader = train_loader\n",
    "\n",
    "# Prepare image\n",
    "img = Image.open(TEST_PATH_IMAGE).convert(\"L\")\n",
    "# for value in Image.Resampling: display(value, img.resize((128,128), resample=value))\n",
    "# img = img.resize((64,64))\n",
    "img = DatasetCustom.CreateDataset.prepare_image(img, 64)\n",
    "display(img)\n",
    "img_transformed = transform_image_no_affine(torch.tensor(np.array(img))).unsqueeze(dim=0)\n",
    "# display(transform_for_printing(img_transformed.squeeze(dim=0)))\n",
    "\n",
    "# Prepare char code\n",
    "char_code = torch.tensor([TEST_CHARCODE])\n",
    "\n",
    "model_eval_path = \"D:\\\\OneDrive - BITS PILANI\\\\Year 3 Sem 1\\\\FDS Project\\\\Models\\\\e29 b00324 - l 0.94693 (complete).pth\"\n",
    "model_eval = FontIdentificationModel(num_fonts=len(test_dataset.label_mapping), largest_char_code=max(test_dataset.codes), char_code_dim=128).to(device)\n",
    "model_eval.load_state_dict(torch.load(model_eval_path, weights_only=True))\n",
    "model_eval.eval() # Set the model to evaluation mode\n",
    "with torch.no_grad():\n",
    "    outputs = model_eval(img_transformed.to(device), char_code.to(device)).squeeze(dim=0)\n",
    "    outputs = nn.Softmax(dim=0)(outputs)\n",
    "\n",
    "o = [(i, score*100, test_dataset.label_reverse_mapping[i]) for i, score in enumerate(outputs.tolist())]\n",
    "\n",
    "o.sort(key=lambda entry: entry[1], reverse=True)\n",
    "display(o[:10])\n",
    "display(HTML(DatasetCustom.CreateDataset.preview_html_image([x[2] for x in o[:10]], chr(TEST_CHARCODE), 60)))\n",
    "\n",
    "# ---------------------------------------------------------------------------- #\n",
    "\n",
    "for images, char_codes, labels in test_loader:\n",
    "    display(transform_for_printing(images[0]), chr(int(char_codes[0])), test_dataset.label_reverse_mapping[int(labels[0])])\n",
    "\n",
    "    image = images[0].unsqueeze(0)\n",
    "    char_code = char_codes[0].unsqueeze(0)\n",
    "\n",
    "    model_eval.eval()\n",
    "    with torch.no_grad():\n",
    "        outputs = model_eval(image.to(device), char_code.to(device)).squeeze(dim=0)\n",
    "        outputs = nn.Softmax(dim=0)(outputs)\n",
    "    o = [(i, score*100, test_dataset.label_reverse_mapping[i]) for i, score in enumerate(outputs.tolist())]\n",
    "\n",
    "    o.sort(key=lambda entry: entry[1], reverse=True)\n",
    "    display(o[:10])\n",
    "    display(HTML(DatasetCustom.CreateDataset.preview_html_image([x[2] for x in o[:10]], chr(char_code), 60)))\n",
    "\n",
    "    break\n"
   ]
  },
  {
   "cell_type": "markdown",
   "metadata": {},
   "source": [
    "\n",
    "---\n",
    "\n",
    "# **4. Confusion matrix**\n",
    "\n",
    "To generate a confusion matrix for a given character."
   ]
  },
  {
   "cell_type": "code",
   "execution_count": 10,
   "metadata": {},
   "outputs": [],
   "source": [
    "MODEL_PATH = \"Models/e29 b00324 - l 0.94693 (complete).pth\"\n",
    "\n",
    "device = torch.device('cuda')\n",
    "model_conf = FontIdentificationModel(num_fonts=len(train_dataset.label_mapping), largest_char_code=max(train_dataset.codes), char_code_dim=128).to(device)\n",
    "model_conf.load_state_dict(torch.load(MODEL_PATH, weights_only=True))\n",
    "model_conf.eval() # Set the model to evaluation mode\n",
    "\n",
    "def predict(img: Image.Image, char_code: int) -> list[float]:\n",
    "    img = DatasetCustom.CreateDataset.prepare_image(img, 64)\n",
    "    img_transformed = transform_image_no_affine(torch.tensor(np.array(img))).unsqueeze(dim=0)\n",
    "\n",
    "    with torch.no_grad():\n",
    "        outputs = model_conf(img_transformed.to(device), torch.tensor([char_code], device=device)).squeeze(dim=0)\n",
    "        outputs = nn.Softmax(dim=0)(outputs)\n",
    "\n",
    "    # o = [(i, score, test_dataset.label_reverse_mapping[i]) for i, score in enumerate(outputs.tolist())]\n",
    "    # o.sort(key=lambda entry: entry[1], reverse=True)\n",
    "    # return o\n",
    "    return outputs.tolist()\n"
   ]
  },
  {
   "cell_type": "code",
   "execution_count": 64,
   "metadata": {},
   "outputs": [],
   "source": [
    "CHARACTER = \"P\"\n",
    "\n",
    "num_fonts = len(train_dataset.label_mapping)\n",
    "indices = np.equal(train_dataset.codes, ord(CHARACTER)).nonzero()[0]\n",
    "\n",
    "outcome_actual    = np.full((len(indices),), -1, dtype=np.int32)\n",
    "outcome_predicted = np.full((len(indices),), -1, dtype=np.int32)\n",
    "\n",
    "for entry_i, index in enumerate(indices):\n",
    "    image, char_code, label_actual = train_dataset[index]\n",
    "    image = transform_for_printing(image)\n",
    "    predictions = predict(image, char_code)\n",
    "    predictions_sorted = sorted(enumerate(predictions), key=lambda entry: entry[1], reverse=True)\n",
    "    label_predicted = predictions_sorted[0][0]\n",
    "\n",
    "    outcome_predicted[entry_i] = label_predicted\n",
    "    outcome_actual[entry_i] = label_actual\n"
   ]
  },
  {
   "cell_type": "code",
   "execution_count": null,
   "metadata": {},
   "outputs": [
    {
     "data": {
      "image/png": "[encoded data removed]",
      "text/plain": [
       "<Figure size 640x480 with 2 Axes>"
      ]
     },
     "metadata": {},
     "output_type": "display_data"
    },
    {
     "data": {
      "image/png": "[encoded data removed]",
      "text/plain": [
       "<Figure size 640x480 with 2 Axes>"
      ]
     },
     "metadata": {},
     "output_type": "display_data"
    }
   ],
   "source": [
    "from sklearn.metrics import ConfusionMatrixDisplay\n",
    "\n",
    "cdm = ConfusionMatrixDisplay.from_predictions(\n",
    "    outcome_actual,\n",
    "    outcome_predicted,\n",
    "    include_values=False,\n",
    ")\n",
    "\n",
    "# import pandas as pd\n",
    "# pd.DataFrame(cm).to_csv(\"conf matrix.csv\", header=False, index=False)"
   ]
  }
 ],
 "metadata": {
  "kernelspec": {
   "display_name": "fds",
   "language": "python",
   "name": "python3"
  },
  "language_info": {
   "codemirror_mode": {
    "name": "ipython",
    "version": 3
   },
   "file_extension": ".py",
   "mimetype": "text/x-python",
   "name": "python",
   "nbconvert_exporter": "python",
   "pygments_lexer": "ipython3",
   "version": "3.12.7"
  }
 },
 "nbformat": 4,
 "nbformat_minor": 2
}
